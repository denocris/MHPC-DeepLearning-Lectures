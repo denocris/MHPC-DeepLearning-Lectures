{
  "nbformat": 4,
  "nbformat_minor": 0,
  "metadata": {
    "colab": {
      "name": "appendix_A_tf_low-level-api_basics.ipynb",
      "version": "0.3.2",
      "provenance": [],
      "collapsed_sections": [
        "LlW23hvToHkg",
        "jr69rTaloHki",
        "wCjqMRVyoHlg",
        "oTegqMbqoHmA",
        "qN-UQLdBoHmT",
        "qvP0RR4OoHnH",
        "9QnwS5SEoHn0",
        "Q2CycjRgoHoJ",
        "fkPcHjqzoHoL",
        "tPvDuJGPoHoe"
      ],
      "include_colab_link": true
    },
    "language_info": {
      "codemirror_mode": {
        "name": "ipython",
        "version": 3
      },
      "file_extension": ".py",
      "mimetype": "text/x-python",
      "name": "python",
      "nbconvert_exporter": "python",
      "pygments_lexer": "ipython3",
      "version": "3.6.2"
    },
    "kernelspec": {
      "display_name": "Python 3",
      "language": "python",
      "name": "python3"
    }
  },
  "cells": [
    {
      "cell_type": "markdown",
      "metadata": {
        "id": "view-in-github",
        "colab_type": "text"
      },
      "source": [
        "<a href=\"https://colab.research.google.com/github/denocris/MHPC-DeepLearning-Lectures/blob/master/appendix_A_tf_low_level_api_basics.ipynb\" target=\"_parent\"><img src=\"https://colab.research.google.com/assets/colab-badge.svg\" alt=\"Open In Colab\"/></a>"
      ]
    },
    {
      "cell_type": "markdown",
      "metadata": {
        "id": "6dlMr9HroHkP",
        "colab_type": "text"
      },
      "source": [
        "<h1 style=\"text-align: center;\" markdown=\"1\"> Tensorflow Basic Concepts </h1>"
      ]
    },
    {
      "cell_type": "code",
      "metadata": {
        "id": "TSa1_pGFoHkU",
        "colab_type": "code",
        "colab": {}
      },
      "source": [
        "import scipy.io\n",
        "import numpy as np\n",
        "import pandas as pd\n",
        "from time import time\n",
        "from sklearn.metrics import confusion_matrix\n",
        "from IPython.display import Image\n",
        "import matplotlib.pyplot as plt"
      ],
      "execution_count": 0,
      "outputs": []
    },
    {
      "cell_type": "code",
      "metadata": {
        "id": "_Mz_-pxUoHkZ",
        "colab_type": "code",
        "outputId": "06af9818-6ebb-434b-a9c5-a326173691b0",
        "colab": {}
      },
      "source": [
        "import bokeh.plotting as bk\n",
        "bk.output_notebook()"
      ],
      "execution_count": 0,
      "outputs": [
        {
          "output_type": "display_data",
          "data": {
            "text/html": [
              "\n",
              "    <div class=\"bk-root\">\n",
              "        <a href=\"https://bokeh.pydata.org\" target=\"_blank\" class=\"bk-logo bk-logo-small bk-logo-notebook\"></a>\n",
              "        <span id=\"1001\">Loading BokehJS ...</span>\n",
              "    </div>"
            ]
          },
          "metadata": {
            "tags": []
          }
        },
        {
          "output_type": "display_data",
          "data": {
            "application/javascript": [
              "\n",
              "(function(root) {\n",
              "  function now() {\n",
              "    return new Date();\n",
              "  }\n",
              "\n",
              "  var force = true;\n",
              "\n",
              "  if (typeof (root._bokeh_onload_callbacks) === \"undefined\" || force === true) {\n",
              "    root._bokeh_onload_callbacks = [];\n",
              "    root._bokeh_is_loading = undefined;\n",
              "  }\n",
              "\n",
              "  var JS_MIME_TYPE = 'application/javascript';\n",
              "  var HTML_MIME_TYPE = 'text/html';\n",
              "  var EXEC_MIME_TYPE = 'application/vnd.bokehjs_exec.v0+json';\n",
              "  var CLASS_NAME = 'output_bokeh rendered_html';\n",
              "\n",
              "  /**\n",
              "   * Render data to the DOM node\n",
              "   */\n",
              "  function render(props, node) {\n",
              "    var script = document.createElement(\"script\");\n",
              "    node.appendChild(script);\n",
              "  }\n",
              "\n",
              "  /**\n",
              "   * Handle when an output is cleared or removed\n",
              "   */\n",
              "  function handleClearOutput(event, handle) {\n",
              "    var cell = handle.cell;\n",
              "\n",
              "    var id = cell.output_area._bokeh_element_id;\n",
              "    var server_id = cell.output_area._bokeh_server_id;\n",
              "    // Clean up Bokeh references\n",
              "    if (id != null && id in Bokeh.index) {\n",
              "      Bokeh.index[id].model.document.clear();\n",
              "      delete Bokeh.index[id];\n",
              "    }\n",
              "\n",
              "    if (server_id !== undefined) {\n",
              "      // Clean up Bokeh references\n",
              "      var cmd = \"from bokeh.io.state import curstate; print(curstate().uuid_to_server['\" + server_id + \"'].get_sessions()[0].document.roots[0]._id)\";\n",
              "      cell.notebook.kernel.execute(cmd, {\n",
              "        iopub: {\n",
              "          output: function(msg) {\n",
              "            var id = msg.content.text.trim();\n",
              "            if (id in Bokeh.index) {\n",
              "              Bokeh.index[id].model.document.clear();\n",
              "              delete Bokeh.index[id];\n",
              "            }\n",
              "          }\n",
              "        }\n",
              "      });\n",
              "      // Destroy server and session\n",
              "      var cmd = \"import bokeh.io.notebook as ion; ion.destroy_server('\" + server_id + \"')\";\n",
              "      cell.notebook.kernel.execute(cmd);\n",
              "    }\n",
              "  }\n",
              "\n",
              "  /**\n",
              "   * Handle when a new output is added\n",
              "   */\n",
              "  function handleAddOutput(event, handle) {\n",
              "    var output_area = handle.output_area;\n",
              "    var output = handle.output;\n",
              "\n",
              "    // limit handleAddOutput to display_data with EXEC_MIME_TYPE content only\n",
              "    if ((output.output_type != \"display_data\") || (!output.data.hasOwnProperty(EXEC_MIME_TYPE))) {\n",
              "      return\n",
              "    }\n",
              "\n",
              "    var toinsert = output_area.element.find(\".\" + CLASS_NAME.split(' ')[0]);\n",
              "\n",
              "    if (output.metadata[EXEC_MIME_TYPE][\"id\"] !== undefined) {\n",
              "      toinsert[toinsert.length - 1].firstChild.textContent = output.data[JS_MIME_TYPE];\n",
              "      // store reference to embed id on output_area\n",
              "      output_area._bokeh_element_id = output.metadata[EXEC_MIME_TYPE][\"id\"];\n",
              "    }\n",
              "    if (output.metadata[EXEC_MIME_TYPE][\"server_id\"] !== undefined) {\n",
              "      var bk_div = document.createElement(\"div\");\n",
              "      bk_div.innerHTML = output.data[HTML_MIME_TYPE];\n",
              "      var script_attrs = bk_div.children[0].attributes;\n",
              "      for (var i = 0; i < script_attrs.length; i++) {\n",
              "        toinsert[toinsert.length - 1].firstChild.setAttribute(script_attrs[i].name, script_attrs[i].value);\n",
              "      }\n",
              "      // store reference to server id on output_area\n",
              "      output_area._bokeh_server_id = output.metadata[EXEC_MIME_TYPE][\"server_id\"];\n",
              "    }\n",
              "  }\n",
              "\n",
              "  function register_renderer(events, OutputArea) {\n",
              "\n",
              "    function append_mime(data, metadata, element) {\n",
              "      // create a DOM node to render to\n",
              "      var toinsert = this.create_output_subarea(\n",
              "        metadata,\n",
              "        CLASS_NAME,\n",
              "        EXEC_MIME_TYPE\n",
              "      );\n",
              "      this.keyboard_manager.register_events(toinsert);\n",
              "      // Render to node\n",
              "      var props = {data: data, metadata: metadata[EXEC_MIME_TYPE]};\n",
              "      render(props, toinsert[toinsert.length - 1]);\n",
              "      element.append(toinsert);\n",
              "      return toinsert\n",
              "    }\n",
              "\n",
              "    /* Handle when an output is cleared or removed */\n",
              "    events.on('clear_output.CodeCell', handleClearOutput);\n",
              "    events.on('delete.Cell', handleClearOutput);\n",
              "\n",
              "    /* Handle when a new output is added */\n",
              "    events.on('output_added.OutputArea', handleAddOutput);\n",
              "\n",
              "    /**\n",
              "     * Register the mime type and append_mime function with output_area\n",
              "     */\n",
              "    OutputArea.prototype.register_mime_type(EXEC_MIME_TYPE, append_mime, {\n",
              "      /* Is output safe? */\n",
              "      safe: true,\n",
              "      /* Index of renderer in `output_area.display_order` */\n",
              "      index: 0\n",
              "    });\n",
              "  }\n",
              "\n",
              "  // register the mime type if in Jupyter Notebook environment and previously unregistered\n",
              "  if (root.Jupyter !== undefined) {\n",
              "    var events = require('base/js/events');\n",
              "    var OutputArea = require('notebook/js/outputarea').OutputArea;\n",
              "\n",
              "    if (OutputArea.prototype.mime_types().indexOf(EXEC_MIME_TYPE) == -1) {\n",
              "      register_renderer(events, OutputArea);\n",
              "    }\n",
              "  }\n",
              "\n",
              "  \n",
              "  if (typeof (root._bokeh_timeout) === \"undefined\" || force === true) {\n",
              "    root._bokeh_timeout = Date.now() + 5000;\n",
              "    root._bokeh_failed_load = false;\n",
              "  }\n",
              "\n",
              "  var NB_LOAD_WARNING = {'data': {'text/html':\n",
              "     \"<div style='background-color: #fdd'>\\n\"+\n",
              "     \"<p>\\n\"+\n",
              "     \"BokehJS does not appear to have successfully loaded. If loading BokehJS from CDN, this \\n\"+\n",
              "     \"may be due to a slow or bad network connection. Possible fixes:\\n\"+\n",
              "     \"</p>\\n\"+\n",
              "     \"<ul>\\n\"+\n",
              "     \"<li>re-rerun `output_notebook()` to attempt to load from CDN again, or</li>\\n\"+\n",
              "     \"<li>use INLINE resources instead, as so:</li>\\n\"+\n",
              "     \"</ul>\\n\"+\n",
              "     \"<code>\\n\"+\n",
              "     \"from bokeh.resources import INLINE\\n\"+\n",
              "     \"output_notebook(resources=INLINE)\\n\"+\n",
              "     \"</code>\\n\"+\n",
              "     \"</div>\"}};\n",
              "\n",
              "  function display_loaded() {\n",
              "    var el = document.getElementById(\"1001\");\n",
              "    if (el != null) {\n",
              "      el.textContent = \"BokehJS is loading...\";\n",
              "    }\n",
              "    if (root.Bokeh !== undefined) {\n",
              "      if (el != null) {\n",
              "        el.textContent = \"BokehJS \" + root.Bokeh.version + \" successfully loaded.\";\n",
              "      }\n",
              "    } else if (Date.now() < root._bokeh_timeout) {\n",
              "      setTimeout(display_loaded, 100)\n",
              "    }\n",
              "  }\n",
              "\n",
              "\n",
              "  function run_callbacks() {\n",
              "    try {\n",
              "      root._bokeh_onload_callbacks.forEach(function(callback) { callback() });\n",
              "    }\n",
              "    finally {\n",
              "      delete root._bokeh_onload_callbacks\n",
              "    }\n",
              "    console.info(\"Bokeh: all callbacks have finished\");\n",
              "  }\n",
              "\n",
              "  function load_libs(js_urls, callback) {\n",
              "    root._bokeh_onload_callbacks.push(callback);\n",
              "    if (root._bokeh_is_loading > 0) {\n",
              "      console.log(\"Bokeh: BokehJS is being loaded, scheduling callback at\", now());\n",
              "      return null;\n",
              "    }\n",
              "    if (js_urls == null || js_urls.length === 0) {\n",
              "      run_callbacks();\n",
              "      return null;\n",
              "    }\n",
              "    console.log(\"Bokeh: BokehJS not loaded, scheduling load and callback at\", now());\n",
              "    root._bokeh_is_loading = js_urls.length;\n",
              "    for (var i = 0; i < js_urls.length; i++) {\n",
              "      var url = js_urls[i];\n",
              "      var s = document.createElement('script');\n",
              "      s.src = url;\n",
              "      s.async = false;\n",
              "      s.onreadystatechange = s.onload = function() {\n",
              "        root._bokeh_is_loading--;\n",
              "        if (root._bokeh_is_loading === 0) {\n",
              "          console.log(\"Bokeh: all BokehJS libraries loaded\");\n",
              "          run_callbacks()\n",
              "        }\n",
              "      };\n",
              "      s.onerror = function() {\n",
              "        console.warn(\"failed to load library \" + url);\n",
              "      };\n",
              "      console.log(\"Bokeh: injecting script tag for BokehJS library: \", url);\n",
              "      document.getElementsByTagName(\"head\")[0].appendChild(s);\n",
              "    }\n",
              "  };var element = document.getElementById(\"1001\");\n",
              "  if (element == null) {\n",
              "    console.log(\"Bokeh: ERROR: autoload.js configured with elementid '1001' but no matching script tag was found. \")\n",
              "    return false;\n",
              "  }\n",
              "\n",
              "  var js_urls = [\"https://cdn.pydata.org/bokeh/release/bokeh-1.0.1.min.js\", \"https://cdn.pydata.org/bokeh/release/bokeh-widgets-1.0.1.min.js\", \"https://cdn.pydata.org/bokeh/release/bokeh-tables-1.0.1.min.js\", \"https://cdn.pydata.org/bokeh/release/bokeh-gl-1.0.1.min.js\"];\n",
              "\n",
              "  var inline_js = [\n",
              "    function(Bokeh) {\n",
              "      Bokeh.set_log_level(\"info\");\n",
              "    },\n",
              "    \n",
              "    function(Bokeh) {\n",
              "      \n",
              "    },\n",
              "    function(Bokeh) {\n",
              "      console.log(\"Bokeh: injecting CSS: https://cdn.pydata.org/bokeh/release/bokeh-1.0.1.min.css\");\n",
              "      Bokeh.embed.inject_css(\"https://cdn.pydata.org/bokeh/release/bokeh-1.0.1.min.css\");\n",
              "      console.log(\"Bokeh: injecting CSS: https://cdn.pydata.org/bokeh/release/bokeh-widgets-1.0.1.min.css\");\n",
              "      Bokeh.embed.inject_css(\"https://cdn.pydata.org/bokeh/release/bokeh-widgets-1.0.1.min.css\");\n",
              "      console.log(\"Bokeh: injecting CSS: https://cdn.pydata.org/bokeh/release/bokeh-tables-1.0.1.min.css\");\n",
              "      Bokeh.embed.inject_css(\"https://cdn.pydata.org/bokeh/release/bokeh-tables-1.0.1.min.css\");\n",
              "    }\n",
              "  ];\n",
              "\n",
              "  function run_inline_js() {\n",
              "    \n",
              "    if ((root.Bokeh !== undefined) || (force === true)) {\n",
              "      for (var i = 0; i < inline_js.length; i++) {\n",
              "        inline_js[i].call(root, root.Bokeh);\n",
              "      }if (force === true) {\n",
              "        display_loaded();\n",
              "      }} else if (Date.now() < root._bokeh_timeout) {\n",
              "      setTimeout(run_inline_js, 100);\n",
              "    } else if (!root._bokeh_failed_load) {\n",
              "      console.log(\"Bokeh: BokehJS failed to load within specified timeout.\");\n",
              "      root._bokeh_failed_load = true;\n",
              "    } else if (force !== true) {\n",
              "      var cell = $(document.getElementById(\"1001\")).parents('.cell').data().cell;\n",
              "      cell.output_area.append_execute_result(NB_LOAD_WARNING)\n",
              "    }\n",
              "\n",
              "  }\n",
              "\n",
              "  if (root._bokeh_is_loading === 0) {\n",
              "    console.log(\"Bokeh: BokehJS loaded, going straight to plotting\");\n",
              "    run_inline_js();\n",
              "  } else {\n",
              "    load_libs(js_urls, function() {\n",
              "      console.log(\"Bokeh: BokehJS plotting callback run at\", now());\n",
              "      run_inline_js();\n",
              "    });\n",
              "  }\n",
              "}(window));"
            ],
            "application/vnd.bokehjs_load.v0+json": "\n(function(root) {\n  function now() {\n    return new Date();\n  }\n\n  var force = true;\n\n  if (typeof (root._bokeh_onload_callbacks) === \"undefined\" || force === true) {\n    root._bokeh_onload_callbacks = [];\n    root._bokeh_is_loading = undefined;\n  }\n\n  \n\n  \n  if (typeof (root._bokeh_timeout) === \"undefined\" || force === true) {\n    root._bokeh_timeout = Date.now() + 5000;\n    root._bokeh_failed_load = false;\n  }\n\n  var NB_LOAD_WARNING = {'data': {'text/html':\n     \"<div style='background-color: #fdd'>\\n\"+\n     \"<p>\\n\"+\n     \"BokehJS does not appear to have successfully loaded. If loading BokehJS from CDN, this \\n\"+\n     \"may be due to a slow or bad network connection. Possible fixes:\\n\"+\n     \"</p>\\n\"+\n     \"<ul>\\n\"+\n     \"<li>re-rerun `output_notebook()` to attempt to load from CDN again, or</li>\\n\"+\n     \"<li>use INLINE resources instead, as so:</li>\\n\"+\n     \"</ul>\\n\"+\n     \"<code>\\n\"+\n     \"from bokeh.resources import INLINE\\n\"+\n     \"output_notebook(resources=INLINE)\\n\"+\n     \"</code>\\n\"+\n     \"</div>\"}};\n\n  function display_loaded() {\n    var el = document.getElementById(\"1001\");\n    if (el != null) {\n      el.textContent = \"BokehJS is loading...\";\n    }\n    if (root.Bokeh !== undefined) {\n      if (el != null) {\n        el.textContent = \"BokehJS \" + root.Bokeh.version + \" successfully loaded.\";\n      }\n    } else if (Date.now() < root._bokeh_timeout) {\n      setTimeout(display_loaded, 100)\n    }\n  }\n\n\n  function run_callbacks() {\n    try {\n      root._bokeh_onload_callbacks.forEach(function(callback) { callback() });\n    }\n    finally {\n      delete root._bokeh_onload_callbacks\n    }\n    console.info(\"Bokeh: all callbacks have finished\");\n  }\n\n  function load_libs(js_urls, callback) {\n    root._bokeh_onload_callbacks.push(callback);\n    if (root._bokeh_is_loading > 0) {\n      console.log(\"Bokeh: BokehJS is being loaded, scheduling callback at\", now());\n      return null;\n    }\n    if (js_urls == null || js_urls.length === 0) {\n      run_callbacks();\n      return null;\n    }\n    console.log(\"Bokeh: BokehJS not loaded, scheduling load and callback at\", now());\n    root._bokeh_is_loading = js_urls.length;\n    for (var i = 0; i < js_urls.length; i++) {\n      var url = js_urls[i];\n      var s = document.createElement('script');\n      s.src = url;\n      s.async = false;\n      s.onreadystatechange = s.onload = function() {\n        root._bokeh_is_loading--;\n        if (root._bokeh_is_loading === 0) {\n          console.log(\"Bokeh: all BokehJS libraries loaded\");\n          run_callbacks()\n        }\n      };\n      s.onerror = function() {\n        console.warn(\"failed to load library \" + url);\n      };\n      console.log(\"Bokeh: injecting script tag for BokehJS library: \", url);\n      document.getElementsByTagName(\"head\")[0].appendChild(s);\n    }\n  };var element = document.getElementById(\"1001\");\n  if (element == null) {\n    console.log(\"Bokeh: ERROR: autoload.js configured with elementid '1001' but no matching script tag was found. \")\n    return false;\n  }\n\n  var js_urls = [\"https://cdn.pydata.org/bokeh/release/bokeh-1.0.1.min.js\", \"https://cdn.pydata.org/bokeh/release/bokeh-widgets-1.0.1.min.js\", \"https://cdn.pydata.org/bokeh/release/bokeh-tables-1.0.1.min.js\", \"https://cdn.pydata.org/bokeh/release/bokeh-gl-1.0.1.min.js\"];\n\n  var inline_js = [\n    function(Bokeh) {\n      Bokeh.set_log_level(\"info\");\n    },\n    \n    function(Bokeh) {\n      \n    },\n    function(Bokeh) {\n      console.log(\"Bokeh: injecting CSS: https://cdn.pydata.org/bokeh/release/bokeh-1.0.1.min.css\");\n      Bokeh.embed.inject_css(\"https://cdn.pydata.org/bokeh/release/bokeh-1.0.1.min.css\");\n      console.log(\"Bokeh: injecting CSS: https://cdn.pydata.org/bokeh/release/bokeh-widgets-1.0.1.min.css\");\n      Bokeh.embed.inject_css(\"https://cdn.pydata.org/bokeh/release/bokeh-widgets-1.0.1.min.css\");\n      console.log(\"Bokeh: injecting CSS: https://cdn.pydata.org/bokeh/release/bokeh-tables-1.0.1.min.css\");\n      Bokeh.embed.inject_css(\"https://cdn.pydata.org/bokeh/release/bokeh-tables-1.0.1.min.css\");\n    }\n  ];\n\n  function run_inline_js() {\n    \n    if ((root.Bokeh !== undefined) || (force === true)) {\n      for (var i = 0; i < inline_js.length; i++) {\n        inline_js[i].call(root, root.Bokeh);\n      }if (force === true) {\n        display_loaded();\n      }} else if (Date.now() < root._bokeh_timeout) {\n      setTimeout(run_inline_js, 100);\n    } else if (!root._bokeh_failed_load) {\n      console.log(\"Bokeh: BokehJS failed to load within specified timeout.\");\n      root._bokeh_failed_load = true;\n    } else if (force !== true) {\n      var cell = $(document.getElementById(\"1001\")).parents('.cell').data().cell;\n      cell.output_area.append_execute_result(NB_LOAD_WARNING)\n    }\n\n  }\n\n  if (root._bokeh_is_loading === 0) {\n    console.log(\"Bokeh: BokehJS loaded, going straight to plotting\");\n    run_inline_js();\n  } else {\n    load_libs(js_urls, function() {\n      console.log(\"Bokeh: BokehJS plotting callback run at\", now());\n      run_inline_js();\n    });\n  }\n}(window));"
          },
          "metadata": {
            "tags": []
          }
        }
      ]
    },
    {
      "cell_type": "markdown",
      "metadata": {
        "id": "LlW23hvToHkg",
        "colab_type": "text"
      },
      "source": [
        "\n",
        "## 1 Introduction"
      ]
    },
    {
      "cell_type": "markdown",
      "metadata": {
        "id": "ah3-QlHwoHkh",
        "colab_type": "text"
      },
      "source": [
        "### Why TensorFlow?\n",
        "\n",
        "*“While the mathematical concepts behind deep learning have been around for decades,\n",
        "programming libraries dedicated to creating and training these deep models have only been\n",
        "available in recent years.\n",
        "Unfortunately, most of these libraries have a large trade off between **flexibility** and\n",
        "**production-worthiness (scalability)**. Flexible libraries are invaluable for researching novel model\n",
        "architectures, but are often either too slow or incapable of being used in production (PyTorch). On the\n",
        "other hand, fast, efficient, libraries which can be hosted on distributed hardware are available,\n",
        "but they often specialize in specific types of neural networks and aren’t suited to researching\n",
        "new and better models (Caffe). This leaves decision makers with a dilemma: should we attempt to do\n",
        "research with inflexible libraries so that we don’t have to reimplement code, or should we use\n",
        "one library for research and a completely different library for production? If we choose the\n",
        "former, we may be unable to test out different types of neural network models; if we choose the\n",
        "latter, we have to maintain code that may have completely di erent APIs. Do we even have the\n",
        "resources for this?\n",
        "TensorFlow aim s to solve this dilemma. Tensorflow is both **flexible** and **scalable** and allows users to go easility from research into production.”* Ariel Scarpinelli, Erik Erwitt, Danijar Hafner, Troy Mott, Sam Abrahams in TensorFlow for Machine Intelligence.\n",
        "\n",
        "\n",
        "In TensorFlow the computation is formally a **graph**\n",
        "\n",
        "- with **nodes** representing operations;\n",
        "- while **edges** representing tensors (multidimensional data) communicated between operations. \n",
        "\n",
        "It is not intended to be only a neural network library but to perform any computation that can be expressed as a graph. TensorFlow automatic differentiation is especially suited for gradient based machine learning algorithms. The library is written in C++ and it has nice Python bindings. Moreover it can run both on CPU and GPU. \n",
        "\n",
        "\n",
        "<!---\n",
        "For more information please visit [TensorFlow](http://www.tensorflow.org).\n",
        "-->"
      ]
    },
    {
      "cell_type": "markdown",
      "metadata": {
        "id": "jr69rTaloHki",
        "colab_type": "text"
      },
      "source": [
        "## 2 Tensorflow Basics"
      ]
    },
    {
      "cell_type": "markdown",
      "metadata": {
        "id": "Ssbf11JHoHki",
        "colab_type": "text"
      },
      "source": [
        "First import tensorflow and show current version."
      ]
    },
    {
      "cell_type": "code",
      "metadata": {
        "id": "aZduO9b9oHkj",
        "colab_type": "code",
        "outputId": "3ba8e0b8-461d-4a83-ea34-e51898a9a53d",
        "colab": {
          "base_uri": "https://localhost:8080/",
          "height": 35
        }
      },
      "source": [
        "import tensorflow as tf\n",
        "tf.__version__"
      ],
      "execution_count": 0,
      "outputs": [
        {
          "output_type": "execute_result",
          "data": {
            "text/plain": [
              "'1.13.1'"
            ]
          },
          "metadata": {
            "tags": []
          },
          "execution_count": 2
        }
      ]
    },
    {
      "cell_type": "markdown",
      "metadata": {
        "id": "22P-HVEroHko",
        "colab_type": "text"
      },
      "source": [
        "TensorFlow represent computations as **graphs**. Nodes in the graph are called **ops** (operations). An op takes zero or more **Tensors** and produces zero or more Tensors as output. A Tensor is a multidimensional array with a specified type. The graph is a description of a computation, in order to actually execute the computation a graph must be launched in a **session**. A session execute a specific graph on one of the available **devices** (that can be either CPUs or GPUs).\n",
        "\n",
        "In following paragraphs we will clarify these concepts."
      ]
    },
    {
      "cell_type": "markdown",
      "metadata": {
        "id": "IQZrazVZoHkp",
        "colab_type": "text"
      },
      "source": [
        "### 2.1 Computation Graphs"
      ]
    },
    {
      "cell_type": "markdown",
      "metadata": {
        "id": "EqdmMgYXoHkq",
        "colab_type": "text"
      },
      "source": [
        "TensorFlow programs are usually structured as follows:\n",
        "\n",
        "- a **construction phase**, that assembles a **graph**;\n",
        "- an **execution phase** that uses a **session** to execute ops in the graph.\n",
        "\n",
        "It is possibile to build a graph by starting with nodes that do not need any input, such as constant nodes. Then it is possible to use the output of the constant node as input to other operations. TensorFlow uses a default graph to which operations are added, the default graph is created empty as soon as tensorflow is imported. It is sufficient for most operations but it is also possible to manage multiple graphs with the `Graph` class."
      ]
    },
    {
      "cell_type": "markdown",
      "metadata": {
        "id": "zgWfqH2yoHkr",
        "colab_type": "text"
      },
      "source": [
        "Let's first perform a simple operation in **Numpy**"
      ]
    },
    {
      "cell_type": "code",
      "metadata": {
        "id": "5QVKr2mEoHks",
        "colab_type": "code",
        "outputId": "b4a9325e-6d40-48ce-f9e6-808635cf9fca",
        "colab": {
          "base_uri": "https://localhost:8080/",
          "height": 35
        }
      },
      "source": [
        "import numpy as np\n",
        "\n",
        "x = 4.\n",
        "y = 3.\n",
        "numpy_prod = np.multiply(x, y)\n",
        "\n",
        "print(numpy_prod)"
      ],
      "execution_count": 0,
      "outputs": [
        {
          "output_type": "stream",
          "text": [
            "12.0\n"
          ],
          "name": "stdout"
        }
      ]
    },
    {
      "cell_type": "markdown",
      "metadata": {
        "id": "NnKvrlnToHkw",
        "colab_type": "text"
      },
      "source": [
        "Let's try the same op in TensorFlow"
      ]
    },
    {
      "cell_type": "code",
      "metadata": {
        "id": "67X9IqBXoHkw",
        "colab_type": "code",
        "colab": {}
      },
      "source": [
        "tf.reset_default_graph()\n",
        "\n",
        "x = tf.constant(4.)\n",
        "y = tf.constant(3.)\n",
        "\n",
        "# for later use let's also define \n",
        "p = tf.placeholder(tf.float32, shape=())\n",
        "\n",
        "product = tf.multiply(x, y)"
      ],
      "execution_count": 0,
      "outputs": []
    },
    {
      "cell_type": "markdown",
      "metadata": {
        "id": "N9iknrtLoHk0",
        "colab_type": "text"
      },
      "source": [
        "The code creates three nodes: two constant and an operation (multiplication) that takes two inputs (the two constants) and produces an output (product). To actually procude an output is is necessary to run the graph in a session. \n",
        "\n",
        "What is the difference between this expression and a corresponding plain python code that multiply two constants? Try to print the result:"
      ]
    },
    {
      "cell_type": "code",
      "metadata": {
        "id": "vMtbn2Q-oHk1",
        "colab_type": "code",
        "outputId": "8ef4598b-0261-4f13-baca-e038b735a844",
        "colab": {
          "base_uri": "https://localhost:8080/",
          "height": 35
        }
      },
      "source": [
        "print(product)"
      ],
      "execution_count": 0,
      "outputs": [
        {
          "output_type": "stream",
          "text": [
            "Tensor(\"Mul:0\", shape=(), dtype=float32)\n"
          ],
          "name": "stdout"
        }
      ]
    },
    {
      "cell_type": "markdown",
      "metadata": {
        "id": "M0rIhsw_oHk4",
        "colab_type": "text"
      },
      "source": [
        "The key idea is that `product` **does not compute the product of x and y but rather add the product operator to a graph of computation that will be executed later**. The most striking difference between TensorFlow and other numerical computation libraries such as NumPy is that **operations in TensorFlow are symbolic**.\n",
        "\n",
        "**Computation Graphs** allow us to implement ML algorithms by creating and executing operations that interacts with each others. The interaction between operations constitutes the graph. \n",
        "\n",
        "What is a graph in the end? It is a set of *nodes* (or vertices) interconnected by (directed) *edges*. Edges allow data to **flow** from one node to another. Each node represent an operation, that produces an ouput that is passed on in the graph. Operations can be of any kind, from math to logging operation (we will se more on this when we will use TensorBoard).\n",
        "\n",
        "The graph connectivity defines a set of node dependencies, TensorFlow is able to optimize the computation based on this dependencies. Being able to identify connectivities allows to distribute computation and avoid performing redundant computations on irrelevant portion of the graph.\n",
        "\n",
        "We can add other operations to the graph. For example we can do a sum after the product."
      ]
    },
    {
      "cell_type": "code",
      "metadata": {
        "id": "B5GTW1dKoHk5",
        "colab_type": "code",
        "colab": {}
      },
      "source": [
        "z = tf.constant(8.)\n",
        "addition = tf.add(product, z)\n",
        "\n",
        "addition_with_p = tf.add(product, p)"
      ],
      "execution_count": 0,
      "outputs": []
    },
    {
      "cell_type": "markdown",
      "metadata": {
        "id": "4n8oGgu8oHk9",
        "colab_type": "text"
      },
      "source": [
        "The next image represent the default graph for the operations defined before"
      ]
    },
    {
      "cell_type": "markdown",
      "metadata": {
        "id": "I7D0Hmv61AGl",
        "colab_type": "text"
      },
      "source": [
        "<center>  <img src=https://drive.google.com/uc?id=1uKqDbnwF7nbzdkBiQ24N1akbD51wchCy \" width=\"700\">  </center> "
      ]
    },
    {
      "cell_type": "markdown",
      "metadata": {
        "id": "wBpN-PMroHlC",
        "colab_type": "text"
      },
      "source": [
        "Remember that the name of the variables (x, y and product) should be regarded **as the output of the operations and not the opration themselves**. Note that for some arithmetic and logical operation it is possible to use operator overloading instead of using `tf.<operator>`. For example the multiplication could be written `product = x * y`.\n",
        "\n",
        "It is possible to create additional graphs and control how operations and variables get associated with them. `tf.Graph()` creates a new graph. To check which graph is currently se as default we use:"
      ]
    },
    {
      "cell_type": "code",
      "metadata": {
        "id": "IIWmXOXNoHlD",
        "colab_type": "code",
        "outputId": "0c8f807d-24d1-4ab6-d4ba-0bd361be0236",
        "colab": {
          "base_uri": "https://localhost:8080/",
          "height": 35
        }
      },
      "source": [
        "g_default = tf.get_default_graph()\n",
        "print(g_default)"
      ],
      "execution_count": 0,
      "outputs": [
        {
          "output_type": "stream",
          "text": [
            "<tensorflow.python.framework.ops.Graph object at 0x7f8fcb3b13c8>\n"
          ],
          "name": "stdout"
        }
      ]
    },
    {
      "cell_type": "markdown",
      "metadata": {
        "id": "DwbaanBWoHlI",
        "colab_type": "text"
      },
      "source": [
        "Now we create a new graph g."
      ]
    },
    {
      "cell_type": "code",
      "metadata": {
        "id": "eLKaigMsoHlK",
        "colab_type": "code",
        "outputId": "17aea770-d705-459a-a30f-8f6abe5e2d09",
        "colab": {}
      },
      "source": [
        "g = tf.Graph()\n",
        "print(g)"
      ],
      "execution_count": 0,
      "outputs": [
        {
          "output_type": "stream",
          "text": [
            "<tensorflow.python.framework.ops.Graph object at 0x1259731d0>\n"
          ],
          "name": "stdout"
        }
      ]
    },
    {
      "cell_type": "markdown",
      "metadata": {
        "id": "hJOSGUbPoHlO",
        "colab_type": "text"
      },
      "source": [
        "As you can see they are diffrent objects. Also, given a node, we can see to which graph is associated:"
      ]
    },
    {
      "cell_type": "code",
      "metadata": {
        "id": "irzH39KKoHlQ",
        "colab_type": "code",
        "outputId": "d417d1c6-4493-48d9-a377-0c8f049d73e1",
        "colab": {}
      },
      "source": [
        "print(x.graph is g)\n",
        "print(x.graph is g_default)"
      ],
      "execution_count": 0,
      "outputs": [
        {
          "output_type": "stream",
          "text": [
            "False\n",
            "True\n"
          ],
          "name": "stdout"
        }
      ]
    },
    {
      "cell_type": "markdown",
      "metadata": {
        "id": "9xzA7gZWoHlV",
        "colab_type": "text"
      },
      "source": [
        "Using `with` statement we can control which graph is set as default and add new nodes to it. For example we can do:"
      ]
    },
    {
      "cell_type": "code",
      "metadata": {
        "id": "hD8hTwZXoHlW",
        "colab_type": "code",
        "outputId": "0b353d77-f251-4bf7-a0d5-f7acb4b92eea",
        "colab": {}
      },
      "source": [
        "print(g is tf.get_default_graph())\n",
        "\n",
        "with g.as_default():\n",
        "    print(g is tf.get_default_graph())\n",
        "    \n",
        "print(g_default is tf.get_default_graph())"
      ],
      "execution_count": 0,
      "outputs": [
        {
          "output_type": "stream",
          "text": [
            "False\n",
            "True\n",
            "True\n"
          ],
          "name": "stdout"
        }
      ]
    },
    {
      "cell_type": "markdown",
      "metadata": {
        "id": "vvqiFktOoHle",
        "colab_type": "text"
      },
      "source": [
        "TensorFlow uses graphs as an abstraction for various reasons. The main reason is that Neural Networks have a natural graph structure. Moreover graphs can split computation into small differentiable pieces, that allows TensorFlow to compute derivative of any node w.r.t. any other node in the graph. Neural Network learning algorithm is based on gradients. Finally having the computation separated makes it much easier to distribute work across multiple CPUs, GPUs, and other computational devices. (There is one more reason that we will see briefly: save computation, only runnig subgraphs that are connected to the value to fetch)."
      ]
    },
    {
      "cell_type": "markdown",
      "metadata": {
        "id": "wCjqMRVyoHlg",
        "colab_type": "text"
      },
      "source": [
        "### 2.2 Sessions"
      ]
    },
    {
      "cell_type": "markdown",
      "metadata": {
        "id": "Rof8WDa4oHlg",
        "colab_type": "text"
      },
      "source": [
        "Once the computation graph is defined we can use it in a **Session** to actually obtain the result. Session objects are part of TensorFlow API that are responsible for the communication between data and objects and compuational resources. The computation is performed with the method `run()` of the session object. Without arguments `Session` uses the default graph. "
      ]
    },
    {
      "cell_type": "code",
      "metadata": {
        "id": "jXRiS_QHoHlh",
        "colab_type": "code",
        "outputId": "1d581151-c905-4d10-bb86-c25ed3899b3e",
        "colab": {
          "base_uri": "https://localhost:8080/",
          "height": 35
        }
      },
      "source": [
        "sess = tf.Session()\n",
        "result = sess.run([addition])\n",
        "print(result)\n",
        "sess.close()"
      ],
      "execution_count": 0,
      "outputs": [
        {
          "output_type": "stream",
          "text": [
            "[20.0]\n"
          ],
          "name": "stdout"
        }
      ]
    },
    {
      "cell_type": "markdown",
      "metadata": {
        "id": "U34nXI5AoHlk",
        "colab_type": "text"
      },
      "source": [
        "It is necessary to close a session after last operation, to release computational resources; closing a session is done with the method `close()`. It is possible to use `with ... as  ...` statement, that takes care of releasing resources when computation is finished.\n",
        "\n",
        "Tensorflow translates the graph into executable operations and it distributes the computation automatically on available resources. It uses the available **GPU** for as many operations as possible.\n",
        "\n",
        "It is possible to use a **specific device** for a session with `with tf.device(\"/gpu:1\"):` statement. For example previous command execute the graph on the second GPU of the machine. Try to change the string and execute the code on CPU (or another GPU of your machine)"
      ]
    },
    {
      "cell_type": "code",
      "metadata": {
        "id": "Vlueg4WLoHlm",
        "colab_type": "code",
        "outputId": "7e23a022-6392-436d-ff1c-5f02ece807ca",
        "colab": {
          "base_uri": "https://localhost:8080/",
          "height": 35
        }
      },
      "source": [
        "with tf.Session() as sess:\n",
        "    with tf.device(\"/cpu:0\"): # optional\n",
        "        result = sess.run([addition])\n",
        "        print(result)"
      ],
      "execution_count": 0,
      "outputs": [
        {
          "output_type": "stream",
          "text": [
            "[20.0]\n"
          ],
          "name": "stdout"
        }
      ]
    },
    {
      "cell_type": "markdown",
      "metadata": {
        "id": "dXg9eh87oHlp",
        "colab_type": "text"
      },
      "source": [
        "In the these example we requested a particular node of the graph, by passing it to the method `run()`. This is called **fetch** and the arguments of the function are the fetches. It is possible to fetch more than one variable by passing them simultaneously to the run() command (`session.run([var1, var2])`). The result is a list of values fetched. \n",
        "\n",
        "As we said earlier, TensorFlow computes only the necessary portion of the graph if we ask to compute only the product, only the output of node product is computed (involving only the nodes to which it depends)"
      ]
    },
    {
      "cell_type": "code",
      "metadata": {
        "id": "PWSpxasxoHlq",
        "colab_type": "code",
        "outputId": "d0ef2e8e-636e-4443-b3f8-73c1c9d81eb5",
        "colab": {
          "base_uri": "https://localhost:8080/",
          "height": 35
        }
      },
      "source": [
        "with tf.Session() as sess:\n",
        "    result = sess.run([product, addition])\n",
        "    print(result)"
      ],
      "execution_count": 0,
      "outputs": [
        {
          "output_type": "stream",
          "text": [
            "[12.0, 20.0]\n"
          ],
          "name": "stdout"
        }
      ]
    },
    {
      "cell_type": "code",
      "metadata": {
        "id": "7ZMeaZi_sz2p",
        "colab_type": "code",
        "outputId": "4c949393-8dfc-476e-8d99-3faad1425531",
        "colab": {
          "base_uri": "https://localhost:8080/",
          "height": 35
        }
      },
      "source": [
        "with tf.Session() as sess:\n",
        "    result = sess.run([product, addition, addition_with_p], feed_dict={p: 7.0})\n",
        "    print(result)"
      ],
      "execution_count": 0,
      "outputs": [
        {
          "output_type": "stream",
          "text": [
            "[12.0, 20.0, 19.0]\n"
          ],
          "name": "stdout"
        }
      ]
    },
    {
      "cell_type": "markdown",
      "metadata": {
        "id": "NuvyCZlaoHlw",
        "colab_type": "text"
      },
      "source": [
        "In an interactive environment like IPython or Jupyter it could be useful to interleave graph construction and run operations, you can use `InteractiveSession`. The only difference with a regular `Session` is that an `InteractiveSession` installs itself as the default session on construction. The methods `Tensor.eval()` and `Operation.run()` will use that session to run ops."
      ]
    },
    {
      "cell_type": "code",
      "metadata": {
        "id": "W7zM3nOgoHlx",
        "colab_type": "code",
        "outputId": "c916862d-bb23-45ab-b321-dce8e286fbf9",
        "colab": {}
      },
      "source": [
        "sess = tf.InteractiveSession()\n",
        "c = tf.linspace(0.0, 1.0, 5)\n",
        "print(c.eval())"
      ],
      "execution_count": 0,
      "outputs": [
        {
          "output_type": "stream",
          "text": [
            "[0.   0.25 0.5  0.75 1.  ]\n"
          ],
          "name": "stdout"
        }
      ]
    },
    {
      "cell_type": "code",
      "metadata": {
        "id": "lQxVIcNgoHl0",
        "colab_type": "code",
        "colab": {}
      },
      "source": [
        "g = tf.get_default_graph()\n",
        "operations = [op for op in g.get_operations()]"
      ],
      "execution_count": 0,
      "outputs": []
    },
    {
      "cell_type": "code",
      "metadata": {
        "id": "v3qh1VwBoHl3",
        "colab_type": "code",
        "outputId": "2c0fd654-59b7-4d4e-92a2-d8c1f31de33e",
        "colab": {}
      },
      "source": [
        "[op.name for op in operations]"
      ],
      "execution_count": 0,
      "outputs": [
        {
          "output_type": "execute_result",
          "data": {
            "text/plain": [
              "['Const',\n",
              " 'Const_1',\n",
              " 'Mul',\n",
              " 'Const_2',\n",
              " 'Const_3',\n",
              " 'Mul_1',\n",
              " 'Const_4',\n",
              " 'Const_5',\n",
              " 'Mul_2',\n",
              " 'Const_6',\n",
              " 'Add',\n",
              " 'LinSpace/start',\n",
              " 'LinSpace/stop',\n",
              " 'LinSpace/num',\n",
              " 'LinSpace']"
            ]
          },
          "metadata": {
            "tags": []
          },
          "execution_count": 27
        }
      ]
    },
    {
      "cell_type": "markdown",
      "metadata": {
        "id": "J7bqkDqBoHl7",
        "colab_type": "text"
      },
      "source": [
        "Running an operation makes tensorflow running all the operations required for the input of this operation, but doesn't return anything. It is also possible to get tensors and operations by name from a graph. \n",
        "\n",
        "Now we close interactive session."
      ]
    },
    {
      "cell_type": "code",
      "metadata": {
        "id": "hIxXjA0doHl8",
        "colab_type": "code",
        "colab": {}
      },
      "source": [
        "sess.close()"
      ],
      "execution_count": 0,
      "outputs": []
    },
    {
      "cell_type": "markdown",
      "metadata": {
        "id": "bvQshX60oHl-",
        "colab_type": "text"
      },
      "source": [
        "**NOTE:** the session runs the default graph. Using multiple graphs is generally avoided, each graph will require a separate sessions and each session tend to use all available resources. Moreover passing data between them is a bottleneck because usually require using python/numpy and does not work in a distributed environment. It is better to have a disconnected subgraph within the default graph."
      ]
    },
    {
      "cell_type": "markdown",
      "metadata": {
        "id": "cdoj3vvWoHmA",
        "colab_type": "text"
      },
      "source": [
        "### 2.3 Tensors"
      ]
    },
    {
      "cell_type": "markdown",
      "metadata": {
        "id": "XMIBwJ4roHmA",
        "colab_type": "text"
      },
      "source": [
        "TensorFlow uses **Tensors** to represents all data. Only tensors are passed between ops in the graph. Tensors are an n-dimensional arrays, and, in TensorFlow, are described with rank, shape and type. The rank its the number of dimensions (different from matrix rank), the shape is the number of elements for each dimension and the type is the data type assigned to the tensor."
      ]
    },
    {
      "cell_type": "markdown",
      "metadata": {
        "id": "oTegqMbqoHmA",
        "colab_type": "text"
      },
      "source": [
        "#### 2.3.1 Tensors as results of Operations"
      ]
    },
    {
      "cell_type": "markdown",
      "metadata": {
        "id": "jnbJBdtVoHmC",
        "colab_type": "text"
      },
      "source": [
        "When we create an operation for example with tf.add(), the operation is a *node* added to the graph but the handle we get is the tensor that results from the operation. This handle is the *edge* of the graph and it passes (**flow**) the yet-to-be-computed result of the operation to other nodes.\n",
        "\n",
        "Tensors objects have attributes and operations. For example the tensor `x` is a tensor with no shape (actually shape 1x1) that is a scalar, and it's dtype is a float32:"
      ]
    },
    {
      "cell_type": "code",
      "metadata": {
        "id": "0R5G8uw1oHmC",
        "colab_type": "code",
        "outputId": "7c0adb5b-a939-4973-9880-e5497dca8e9c",
        "colab": {}
      },
      "source": [
        "print(x)"
      ],
      "execution_count": 0,
      "outputs": [
        {
          "output_type": "stream",
          "text": [
            "Tensor(\"Const:0\", shape=(), dtype=float32)\n"
          ],
          "name": "stdout"
        }
      ]
    },
    {
      "cell_type": "markdown",
      "metadata": {
        "id": "V95anW4aoHmF",
        "colab_type": "text"
      },
      "source": [
        "Tensors dtype can be specified at creation time or can be modified later using `tf.cast` operation. Tensor can be viewed as n-dimensional arrays. As we have already seen a $1 \\times 1$ tensor is a scalar, a $1 \\times n$ tensor is a vector, a $n \\times n$ tensor is a matrix, a $n \\times n \\times n$ tensor is a three dimensional array, and so on (it can be generalized to any dimension). As with dtypes, TensorFlow can infer automatically the dimension of a tensor object given the shape of the data. For example if we want to create a matrix with `tf.constant` and see what shape we get, we can use the following code:"
      ]
    },
    {
      "cell_type": "code",
      "metadata": {
        "id": "lXHYiO5LoHmF",
        "colab_type": "code",
        "outputId": "fca2c0e4-13dc-44e6-8f54-046b7c0aadd5",
        "colab": {}
      },
      "source": [
        "w = tf.constant([[1,2,3], \n",
        "                 [4,5,6]])\n",
        "print(w.get_shape())"
      ],
      "execution_count": 0,
      "outputs": [
        {
          "output_type": "stream",
          "text": [
            "(2, 3)\n"
          ],
          "name": "stdout"
        }
      ]
    },
    {
      "cell_type": "markdown",
      "metadata": {
        "id": "QwianuP-oHmK",
        "colab_type": "text"
      },
      "source": [
        "Other types of operations that generates number without user input are random number generation operators, linspace (as seen before), array of constant (one or zero values) and many others. They resemble the operations and API used by numpy. \n",
        "\n",
        "An important operation that we will use often is matrix multiplication. It is needed to perform operations like $Ax=b$, where $A$ is a matrix and $x$ is a vector."
      ]
    },
    {
      "cell_type": "code",
      "metadata": {
        "id": "V_hkdIlUoHmL",
        "colab_type": "code",
        "outputId": "ba7e5598-4942-4d31-adc7-dd37f4fc85ce",
        "colab": {}
      },
      "source": [
        "A = tf.constant([[1,2,3],\n",
        "                 [4,5,6]])\n",
        "print(A.get_shape())\n",
        "x = tf.constant([[1],[0],[1]])\n",
        "print(x.get_shape())"
      ],
      "execution_count": 0,
      "outputs": [
        {
          "output_type": "stream",
          "text": [
            "(2, 3)\n",
            "(3, 1)\n"
          ],
          "name": "stdout"
        }
      ]
    },
    {
      "cell_type": "code",
      "metadata": {
        "id": "Ldg6kbncoHmO",
        "colab_type": "code",
        "outputId": "a4295227-9cfe-4b57-f974-c305d5b653ce",
        "colab": {}
      },
      "source": [
        "b = tf.matmul(A, x)\n",
        "with tf.Session() as sess:\n",
        "    print(b.eval())"
      ],
      "execution_count": 0,
      "outputs": [
        {
          "output_type": "stream",
          "text": [
            "[[ 4]\n",
            " [10]]\n"
          ],
          "name": "stdout"
        }
      ]
    },
    {
      "cell_type": "markdown",
      "metadata": {
        "id": "SqHqEpo-oHmR",
        "colab_type": "text"
      },
      "source": [
        "**NOTE:** if you experience warnings, it means TensorFlow wasn't compiled to use SSE4.1 instructions, but these are available on your machine and could speed up CPU computations. To suppress them use: \n",
        "\n",
        ">`import os\n",
        "os.environ['TF_CPP_MIN_LOG_LEVEL']='2'`"
      ]
    },
    {
      "cell_type": "markdown",
      "metadata": {
        "id": "qN-UQLdBoHmT",
        "colab_type": "text"
      },
      "source": [
        "#### 2.3.2 Names and Scopes"
      ]
    },
    {
      "cell_type": "markdown",
      "metadata": {
        "id": "JMmYLy0ooHmT",
        "colab_type": "text"
      },
      "source": [
        "Tensors have a **name** as well, it can be assigned at creation time or TensorFlow assign it for  you (as happened before). It can be displayed with method `name`. The name of the objec is simply the name of the operation followed by a colon and the index of that tensor in the output of the operation that produced it. If two or more operations exists, tensorflow add an underscore to its names followed by a progressive number to avoid tensors with the same name. In following code we will specify the name of the operation at construction time."
      ]
    },
    {
      "cell_type": "code",
      "metadata": {
        "id": "SsuQ7pwKoHmU",
        "colab_type": "code",
        "outputId": "d52613d9-d983-4407-8a75-09fad1615f64",
        "colab": {}
      },
      "source": [
        "b.name"
      ],
      "execution_count": 0,
      "outputs": [
        {
          "output_type": "execute_result",
          "data": {
            "text/plain": [
              "'MatMul:0'"
            ]
          },
          "metadata": {
            "tags": []
          },
          "execution_count": 31
        }
      ]
    },
    {
      "cell_type": "markdown",
      "metadata": {
        "id": "NJu3dl2FoHmX",
        "colab_type": "text"
      },
      "source": [
        "Sometimes can be useful, especially in complicated graphs, to group together related tensors, that belong to a certain portion of the graph for example. **Name scopes** are used for this purpose. Here's an example."
      ]
    },
    {
      "cell_type": "code",
      "metadata": {
        "id": "l4IQMbPmoHmY",
        "colab_type": "code",
        "outputId": "249cda31-75cc-43e4-8465-37870f994522",
        "colab": {}
      },
      "source": [
        "with tf.Graph().as_default():\n",
        "    a1 = tf.constant(4, dtype=tf.float64, name='variable_a1')\n",
        "    with tf.name_scope(\"group\"):\n",
        "        group_a1 = tf.constant(4,dtype=tf.int32, name='variable_a1')\n",
        "        group_a2 = tf.constant(4,dtype=tf.int32, name='variable_a2')\n",
        "\n",
        "print(a1.name)\n",
        "print(group_a1.name)\n",
        "print(group_a2.name)"
      ],
      "execution_count": 0,
      "outputs": [
        {
          "output_type": "stream",
          "text": [
            "variable_a1:0\n",
            "group/variable_a1:0\n",
            "group/variable_a2:0\n"
          ],
          "name": "stdout"
        }
      ]
    },
    {
      "cell_type": "markdown",
      "metadata": {
        "id": "2AghFqDqoHmb",
        "colab_type": "text"
      },
      "source": [
        "TensorFlow provides an interface similar to numpy, for example it implements broadcasting. Note that `a` is a list with 2 elements while `b` is a matrix 2 by 2. `a` is broadcasted (repeated) to match the shape of `b`."
      ]
    },
    {
      "cell_type": "code",
      "metadata": {
        "id": "4zEN5IDsoHmc",
        "colab_type": "code",
        "outputId": "38763f22-7696-4643-f86b-573e499bc190",
        "colab": {}
      },
      "source": [
        "a = tf.constant([2, 2], name='a')\n",
        "b = tf.constant([[0, 1], [2, 3]], name='b')\n",
        "x = tf.multiply(a, b, name='mul')\n",
        "with tf.Session() as sess:\n",
        "    print(sess.run(x))"
      ],
      "execution_count": 0,
      "outputs": [
        {
          "output_type": "stream",
          "text": [
            "[[0 2]\n",
            " [4 6]]\n"
          ],
          "name": "stdout"
        }
      ]
    },
    {
      "cell_type": "markdown",
      "metadata": {
        "id": "vRUeGIKkoHmi",
        "colab_type": "text"
      },
      "source": [
        "Like numpy TensorFlow provides a way to create tensors filled with specific values. Next example create a tensor of shape (2, 3) filled with zeros."
      ]
    },
    {
      "cell_type": "code",
      "metadata": {
        "id": "pHJll4MyoHmk",
        "colab_type": "code",
        "outputId": "3b085fb8-9648-48d1-e7ec-5ccebf2a5ee8",
        "colab": {}
      },
      "source": [
        "zeros = tf.zeros([2, 3], tf.int32, name='zeros')\n",
        "#zeros = tf.identity(zeros, name='add_zeros')\n",
        "with tf.Session() as sess:\n",
        "    print(sess.run(zeros))"
      ],
      "execution_count": 0,
      "outputs": [
        {
          "output_type": "stream",
          "text": [
            "[[0 0 0]\n",
            " [0 0 0]]\n"
          ],
          "name": "stdout"
        }
      ]
    },
    {
      "cell_type": "markdown",
      "metadata": {
        "id": "zXY0w39DoHmn",
        "colab_type": "text"
      },
      "source": [
        "It is also possible to create a tensor with same shape and type of an existing tensor, for example we can create a tensor similar to the previous but filled with ones this time."
      ]
    },
    {
      "cell_type": "code",
      "metadata": {
        "id": "c1q2RUwJoHmo",
        "colab_type": "code",
        "outputId": "a5b99477-b851-4dc9-9fe7-45f5a00f76eb",
        "colab": {}
      },
      "source": [
        "ones_like = tf.ones_like(zeros, name='ones')\n",
        "with tf.Session() as sess:\n",
        "    print(sess.run(ones_like))"
      ],
      "execution_count": 0,
      "outputs": [
        {
          "output_type": "stream",
          "text": [
            "[[1 1 1]\n",
            " [1 1 1]]\n"
          ],
          "name": "stdout"
        }
      ]
    },
    {
      "cell_type": "markdown",
      "metadata": {
        "id": "JoH_74ecoHmr",
        "colab_type": "text"
      },
      "source": [
        "It is also possible to use a specific value to fill the tensor with.\n",
        "\n",
        "Next we will create a constant tensor, but this time it will have a sequence of values. "
      ]
    },
    {
      "cell_type": "code",
      "metadata": {
        "id": "UfSitcopoHmt",
        "colab_type": "code",
        "outputId": "8d0da0f8-4ff0-444f-f7ff-f021a10e684d",
        "colab": {}
      },
      "source": [
        "lin_space = tf.lin_space(10.0, 13.0, 4, name='linspace_example')\n",
        "ran_ge = tf.range(5, name='range_example') \n",
        "with tf.Session() as sess:\n",
        "    print('lin_space: ', sess.run(lin_space))\n",
        "    print('range: ', sess.run(ran_ge))"
      ],
      "execution_count": 0,
      "outputs": [
        {
          "output_type": "stream",
          "text": [
            "lin_space:  [10. 11. 12. 13.]\n",
            "range:  [0 1 2 3 4]\n"
          ],
          "name": "stdout"
        }
      ]
    },
    {
      "cell_type": "markdown",
      "metadata": {
        "id": "HmqCFw-7oHmw",
        "colab_type": "text"
      },
      "source": [
        "What if we want to generate random number? (We will see it is specially usefull for initialize Neural Networks weights). For example we can sample number from a normal distribution or a truncated normal, that doesn't return any values more than two standard deviations away from its mean."
      ]
    },
    {
      "cell_type": "code",
      "metadata": {
        "id": "6JCKd4vRoHmx",
        "colab_type": "code",
        "colab": {}
      },
      "source": [
        "truncated_normal = tf.truncated_normal((10000,))\n",
        "with tf.Session() as sess:\n",
        "    values = sess.run(truncated_normal)\n",
        "hist, edges = np.histogram(values, density=True, bins=50)"
      ],
      "execution_count": 0,
      "outputs": []
    },
    {
      "cell_type": "code",
      "metadata": {
        "id": "SBMncqSNoHm1",
        "colab_type": "code",
        "outputId": "aa1cf95d-7a32-49e2-e942-9c9618f4e3c3",
        "colab": {}
      },
      "source": [
        "plt.hist(hist, 20, facecolor='g', alpha=0.75)\n",
        "plt.show()"
      ],
      "execution_count": 0,
      "outputs": [
        {
          "output_type": "display_data",
          "data": {
            "image/png": "[encoded data removed]",
            "text/plain": [
              "<matplotlib.figure.Figure at 0x126a96ef0>"
            ]
          },
          "metadata": {
            "tags": []
          }
        }
      ]
    },
    {
      "cell_type": "markdown",
      "metadata": {
        "id": "UnIBNJcaoHm4",
        "colab_type": "text"
      },
      "source": [
        "TensorFlow offers a series of **operations** similar to numpy, for example: `tf.abs, tf.negative, tf.sqrt, tf.exp` and so on. It also has operations for arrays, `tf.concat, tf.split, tf.shape` and for control flow, checkpointing and Neural Networks building blocks. We will see them in following notebooks and we will describe them when needed (most of them are self-explanatory)."
      ]
    },
    {
      "cell_type": "markdown",
      "metadata": {
        "id": "C8fii_YGoHm5",
        "colab_type": "text"
      },
      "source": [
        "TensorFlow supports native python data types, if you pass a list or numpy array to a constant function like one of the above, the resulting tensor will have corresponding data type. Single values will be converted to 0 dimensional tensors (scalars), lists will be converted to one dimensional tensors (vectors), nested lists will be converted to two dimensional tensors (matrices) and so forth."
      ]
    },
    {
      "cell_type": "code",
      "metadata": {
        "id": "R6nBUcQPoHm8",
        "colab_type": "code",
        "outputId": "9dc2d2e7-c51a-48e5-e9ed-3c7d9807ae50",
        "colab": {}
      },
      "source": [
        "tensor_d0 = tf.constant(42, name='scalar')\n",
        "tensor_d1 = tf.constant([42, 42], name='vector')\n",
        "tensor_d2 = tf.constant([[42], [42]], name='matrix')\n",
        "with tf.Session() as sess:\n",
        "    print(tensor_d0.eval())\n",
        "    print(tensor_d1.eval())\n",
        "    print(tensor_d2.eval())"
      ],
      "execution_count": 0,
      "outputs": [
        {
          "output_type": "stream",
          "text": [
            "42\n",
            "[42 42]\n",
            "[[42]\n",
            " [42]]\n"
          ],
          "name": "stdout"
        }
      ]
    },
    {
      "cell_type": "markdown",
      "metadata": {
        "id": "Vh6QBbPZoHm-",
        "colab_type": "text"
      },
      "source": [
        "But tensorflow has its own data types, for example `tf.int8` or `tf.float16`. TensorFlow integrates seamlessly with NumPy types, and as we have seen it is possible to pass numpy types to TensorFlow."
      ]
    },
    {
      "cell_type": "code",
      "metadata": {
        "id": "Pm7TfpTyoHnA",
        "colab_type": "code",
        "outputId": "13c3124f-6520-4a08-f432-1c56f6bf5d35",
        "colab": {}
      },
      "source": [
        "tf.int32 == np.int32"
      ],
      "execution_count": 0,
      "outputs": [
        {
          "output_type": "execute_result",
          "data": {
            "text/plain": [
              "True"
            ]
          },
          "metadata": {
            "tags": []
          },
          "execution_count": 33
        }
      ]
    },
    {
      "cell_type": "markdown",
      "metadata": {
        "id": "Ws4LcxyCoHnD",
        "colab_type": "text"
      },
      "source": [
        "As we have seen using python types to specify TensorFlow type is easy, and it is useful for quick prototyping. However TensorFlow types are more specific, for examples pyhton has one integer type only whereas TensorFlow has more int-8 to int-64. For bigger projects it is preferable to use native TensorFlow types.\n",
        "\n",
        "Aside from the fact that costants are, well, constant, there is one more caveats to their use: constants are stored in the **graph definition**. The graph definition is stored in a protobuf, protocol buffers, Google's language-neutral, platform-neutral, extensible mechanism for serializing structured data."
      ]
    },
    {
      "cell_type": "code",
      "metadata": {
        "id": "Te6pdVXloHnE",
        "colab_type": "code",
        "outputId": "adc9b1ae-dcff-470d-f439-900d2fda09d2",
        "colab": {}
      },
      "source": [
        "with tf.Graph().as_default():\n",
        "    const_value = tf.constant([42.0, 42.0], name=\"const_value\")\n",
        "    with tf.Session() as sess:\n",
        "        print(sess.graph.as_graph_def())"
      ],
      "execution_count": 0,
      "outputs": [
        {
          "output_type": "stream",
          "text": [
            "node {\n",
            "  name: \"const_value\"\n",
            "  op: \"Const\"\n",
            "  attr {\n",
            "    key: \"dtype\"\n",
            "    value {\n",
            "      type: DT_FLOAT\n",
            "    }\n",
            "  }\n",
            "  attr {\n",
            "    key: \"value\"\n",
            "    value {\n",
            "      tensor {\n",
            "        dtype: DT_FLOAT\n",
            "        tensor_shape {\n",
            "          dim {\n",
            "            size: 2\n",
            "          }\n",
            "        }\n",
            "        tensor_content: \"\\000\\000(B\\000\\000(B\"\n",
            "      }\n",
            "    }\n",
            "  }\n",
            "}\n",
            "versions {\n",
            "  producer: 26\n",
            "}\n",
            "\n"
          ],
          "name": "stdout"
        }
      ]
    },
    {
      "cell_type": "markdown",
      "metadata": {
        "id": "zoeDUVfCoHnG",
        "colab_type": "text"
      },
      "source": [
        "This makes loading graphs expensive when constants are big, and could reach the limit of 2GB for the size of the graph. It is better to use constants only for primitive types. \n",
        "\n",
        "For these reasons we introduce variables next."
      ]
    },
    {
      "cell_type": "markdown",
      "metadata": {
        "id": "qvP0RR4OoHnH",
        "colab_type": "text"
      },
      "source": [
        "#### 2.3.3 Variables and Placeholders"
      ]
    },
    {
      "cell_type": "markdown",
      "metadata": {
        "id": "Q1Xbqc1AoHnI",
        "colab_type": "text"
      },
      "source": [
        "**Variables** are used to maintain state accross executions of the graph. In this example `state` is initialized to zero and updated each time `update` is run. When using variables, they **must be initialized** after launching the graph, that is after creating a session. In order to initialize the variables it is necessary to add an init operation that must be run *before* all other operations."
      ]
    },
    {
      "cell_type": "code",
      "metadata": {
        "id": "4tiR8uY8oHnI",
        "colab_type": "code",
        "outputId": "fae7ec6f-6aaf-4beb-fb49-f6d5bf12afb6",
        "colab": {}
      },
      "source": [
        "state = tf.Variable(0, name='counter')\n",
        "\n",
        "one = tf.constant(1, name='one')\n",
        "new_value = tf.add(state, one, name='new_value')\n",
        "update = tf.assign(state, new_value, name='update')\n",
        "\n",
        "init_op = tf.global_variables_initializer()\n",
        "\n",
        "with tf.Session() as sess:\n",
        "    sess.run(init_op)\n",
        "    print('state: ' + str(sess.run(state)))\n",
        "    for _ in range(5):\n",
        "        sess.run(update)\n",
        "        print('state: ' + str(sess.run(state)))"
      ],
      "execution_count": 0,
      "outputs": [
        {
          "output_type": "stream",
          "text": [
            "state: 0\n",
            "state: 1\n",
            "state: 2\n",
            "state: 3\n",
            "state: 4\n",
            "state: 5\n"
          ],
          "name": "stdout"
        }
      ]
    },
    {
      "cell_type": "markdown",
      "metadata": {
        "id": "YsNVjEfxoHnM",
        "colab_type": "text"
      },
      "source": [
        "Here `assign` is part of the computational graph as `add` and other operators. **Variables are typically used to represent parameters of a model**, for example in neural network they are used to store the weights matrix, that it is updated at every execution of the graph. Parameters are updated by the operations in the graph as the result of the optimization process. \n",
        "\n",
        "A Variable exists outside the context of a `session.run`. Variables can be initialized to random values, using a distribution (in the previous example it was initialized to zero). For example we can use a random normal distribution with given mean and standard deviation, as well as specify resulting shape."
      ]
    },
    {
      "cell_type": "code",
      "metadata": {
        "id": "zvcYuMk-oHnN",
        "colab_type": "code",
        "outputId": "5d70750b-29b5-4dc5-8e52-bf77954eeca0",
        "colab": {}
      },
      "source": [
        "init_val = tf.random_normal((1, 5), 0, 1, name='init_val')\n",
        "var = tf.Variable(init_val, name='var')\n",
        "print('tensor object: {}'.format(var))\n",
        "\n",
        "init = tf.global_variables_initializer()\n",
        "with tf.Session() as sess:\n",
        "    sess.run(init)\n",
        "    initialized_values = sess.run(var)\n",
        "    \n",
        "print('tensor values after init: {}'.format(initialized_values))\n",
        "\n"
      ],
      "execution_count": 0,
      "outputs": [
        {
          "output_type": "stream",
          "text": [
            "tensor object: <tf.Variable 'var_5:0' shape=(1, 5) dtype=float32_ref>\n",
            "tensor values after init: [[-1.2087451   1.6465131   1.0252233  -0.82393837 -0.28529078]]\n"
          ],
          "name": "stdout"
        }
      ]
    },
    {
      "cell_type": "markdown",
      "metadata": {
        "id": "83xC-6wUoHnP",
        "colab_type": "text"
      },
      "source": [
        "Note that if we run the code several times the output changes, but also the object changes (look at the name of the object!). **A new variable is created every time `tf.Variable` method is called.**\n",
        "\n",
        "A better approach would be to **reuse the variable already created.** There are two main approach: pass the variable object around, or encapsulate variable object inside a **variable scope**. As stated in the documentation of TensorFlow, passing variables around is more explicit, but it is sometimes convenient to write TensorFlow functions that implicitly use variables in their implementation. In general using `tf.Variable` directly is discouraged. The preferred method is to use `tf.get_variable`, that allows also to reuse a variable multiple times."
      ]
    },
    {
      "cell_type": "code",
      "metadata": {
        "id": "EZgzx9F5oHnR",
        "colab_type": "code",
        "colab": {}
      },
      "source": [
        "def var_reuse():\n",
        "    with tf.variable_scope(\"reuse_example\", reuse=tf.AUTO_REUSE):\n",
        "        new_var = tf.get_variable(\"new_var\", initializer=init_val)\n",
        "    return new_var"
      ],
      "execution_count": 0,
      "outputs": []
    },
    {
      "cell_type": "markdown",
      "metadata": {
        "id": "xRJ0BZCpoHnT",
        "colab_type": "text"
      },
      "source": [
        "Previous function defines the scope in which variable is declared and it allows you to create a hierachy of definitions (suitable for example for Neural Networks). The parameter `reuse=tf.AUTO_REUSE` tells TensorFlow to create a variable the first time it is called or to reuse an existing one ater."
      ]
    },
    {
      "cell_type": "code",
      "metadata": {
        "id": "QWEy2qsqoHnV",
        "colab_type": "code",
        "colab": {}
      },
      "source": [
        "new_var1 = var_reuse()  # Creates new_var.\n",
        "new_var2 = var_reuse()  # Gets the same, existing new_var.\n",
        "assert new_var1 == new_var2"
      ],
      "execution_count": 0,
      "outputs": []
    },
    {
      "cell_type": "markdown",
      "metadata": {
        "id": "bkcgNe72oHnW",
        "colab_type": "text"
      },
      "source": [
        "Both `variable_scope` and `name_scope` have the same effect on all operations as well as variables created using tf.Variable (the scope will be added as a prefix to the operation or variable name). However, name scope is **ignored** by tf.get_variable.\n",
        "\n",
        "Each *session* maintains its **own copy** of the variables."
      ]
    },
    {
      "cell_type": "code",
      "metadata": {
        "id": "K2KEMBrOoHnW",
        "colab_type": "code",
        "outputId": "a3c8c038-8e2f-49d4-eb77-9ae2849dcb88",
        "colab": {}
      },
      "source": [
        "new_var = var_reuse()\n",
        "print('tensor object: {}'.format(new_var))\n",
        "with tf.Session() as sess:\n",
        "    sess.run(tf.variables_initializer([new_var], name='new_var_init'))\n",
        "    initialized_values = sess.run(new_var)\n",
        "    \n",
        "print('tensor values after init: {}'.format(initialized_values))"
      ],
      "execution_count": 0,
      "outputs": [
        {
          "output_type": "stream",
          "text": [
            "tensor object: <tf.Variable 'reuse_example/new_var:0' shape=(1, 5) dtype=float32_ref>\n",
            "tensor values after init: [[ 0.46264398 -1.1184399   0.39203706 -0.25184998 -0.3591106 ]]\n"
          ],
          "name": "stdout"
        }
      ]
    },
    {
      "cell_type": "markdown",
      "metadata": {
        "id": "WUfO3JfuoHnZ",
        "colab_type": "text"
      },
      "source": [
        "So far we have covered how to store values in constant and use variable to update their values (these operations are called *source* operations). Remember that a the worklfow of a TensorFlow program has two phases: assemble the graph and use a session to execute operations in the graph. **We need a method to assemble the graph without knowing the values for some tensors needed for computation (simply the inputs of our model).**\n",
        "\n",
        "TensorFlow provides a method to pass values to the variables with a **feed** mechanism. A feed replace the value of a tensor with the value that you provide. Tensorflow provides a special structure called **placeholder** for feeding input values. Placeholders have an optional shape parameter, that can be set to `None` meaning that **the shape can be of any size** (we will see that it is common for mini-batches later on). To feed the values we construct a dictionary whose keys correspond to placeholder variables and values can be list or numpy arrays to feed to each variable."
      ]
    },
    {
      "cell_type": "code",
      "metadata": {
        "id": "YGnFDJWHoHna",
        "colab_type": "code",
        "colab": {}
      },
      "source": [
        "input1 = tf.placeholder(tf.float32, name='input1')\n",
        "input2 = tf.placeholder(tf.float32, name='input2')\n",
        "output = input1 * input2"
      ],
      "execution_count": 0,
      "outputs": []
    },
    {
      "cell_type": "markdown",
      "metadata": {
        "id": "wsank2y9oHnc",
        "colab_type": "text"
      },
      "source": [
        "One caveat of using operator overloading, is that you cannot assign a name to the operation, because a tf.Operation (or tf.Tensor) is immutable once it has been created. "
      ]
    },
    {
      "cell_type": "code",
      "metadata": {
        "id": "d3lNT7W9oHnd",
        "colab_type": "code",
        "outputId": "57bba55c-d37a-45c8-8612-e15900f848b1",
        "colab": {}
      },
      "source": [
        "print(output.name)"
      ],
      "execution_count": 0,
      "outputs": [
        {
          "output_type": "stream",
          "text": [
            "mul:0\n"
          ],
          "name": "stdout"
        }
      ]
    },
    {
      "cell_type": "markdown",
      "metadata": {
        "id": "htn9blRooHnh",
        "colab_type": "text"
      },
      "source": [
        "The typical way to rename an op is therefore to use tf.identity(), which has almost no runtime cost:"
      ]
    },
    {
      "cell_type": "code",
      "metadata": {
        "id": "CJPNgBiDoHni",
        "colab_type": "code",
        "colab": {}
      },
      "source": [
        "output = tf.identity(output, name='placeholder_multiplication')"
      ],
      "execution_count": 0,
      "outputs": []
    },
    {
      "cell_type": "markdown",
      "metadata": {
        "id": "y5D_wuvGoHnj",
        "colab_type": "text"
      },
      "source": [
        "**NOTE:** the recommended way to structure a name scope is to assign the name of the scope itself to the output from the scope (if there is a single output op):"
      ]
    },
    {
      "cell_type": "code",
      "metadata": {
        "id": "hvVbMEraoHnk",
        "colab_type": "code",
        "colab": {}
      },
      "source": [
        "with tf.name_scope('name_scope_multiplication') as scope:\n",
        "    input1 = tf.placeholder(tf.float32, name='input1')\n",
        "    input2 = tf.placeholder(tf.float32, name='input2')\n",
        "    output = tf.multiply(input1, input2, name=scope)"
      ],
      "execution_count": 0,
      "outputs": []
    },
    {
      "cell_type": "markdown",
      "metadata": {
        "id": "XIHfqWoJoHnn",
        "colab_type": "text"
      },
      "source": [
        "A variable declaered as placeholder expects a feed and generate an error if it is not supplied"
      ]
    },
    {
      "cell_type": "code",
      "metadata": {
        "id": "Mp7geVGJoHnn",
        "colab_type": "code",
        "outputId": "f50ffe0d-7646-4d7b-940a-90f94d533d60",
        "colab": {}
      },
      "source": [
        "with tf.Session() as sess:\n",
        "    print(sess.run([output], feed_dict={input1:[7.], input2:[2.]}))"
      ],
      "execution_count": 0,
      "outputs": [
        {
          "output_type": "stream",
          "text": [
            "[array([14.], dtype=float32)]\n"
          ],
          "name": "stdout"
        }
      ]
    },
    {
      "cell_type": "markdown",
      "metadata": {
        "id": "WhEJ-OThoHnp",
        "colab_type": "text"
      },
      "source": [
        "You can feed_dict any feedable tensor. **Placeholder is just a way to indicate that something must be fed**. A convenient function called `tf.Graph.is_feedable(tensor)` returns true if tensor is feedable. "
      ]
    },
    {
      "cell_type": "code",
      "metadata": {
        "id": "fjT4pAmRoHnq",
        "colab_type": "code",
        "outputId": "6ca0dc20-4ad1-4a5c-c037-ef15e4d695e4",
        "colab": {}
      },
      "source": [
        "init_placeholder = tf.global_variables_initializer()\n",
        "with tf.Session() as sess:\n",
        "    sess.run(init_placeholder)\n",
        "    print(sess.run([addition], feed_dict={product: 4}))"
      ],
      "execution_count": 0,
      "outputs": [
        {
          "output_type": "stream",
          "text": [
            "[12.0]\n"
          ],
          "name": "stdout"
        }
      ]
    },
    {
      "cell_type": "markdown",
      "metadata": {
        "id": "phlDRxzZoHnt",
        "colab_type": "text"
      },
      "source": [
        "The practice of feeding values for some operations is extremely helpful for testing. Feed in dummy values to test parts of a large graph avoids computing those portions of the graph. \n",
        "\n",
        "Remember, never declare an operation at execution time! It will add a new operation to the graph each time. We will illustrate this concept as well as the concept introduced so far with the aid of a tool called TensorBoard."
      ]
    },
    {
      "cell_type": "markdown",
      "metadata": {
        "id": "8qh3-cGJoHnt",
        "colab_type": "text"
      },
      "source": [
        "#### 2.3.4 TensorBoard"
      ]
    },
    {
      "cell_type": "markdown",
      "metadata": {
        "id": "q21rww5goHnu",
        "colab_type": "text"
      },
      "source": [
        ">The computations you'll use TensorFlow for - like training a massive deep neural network - can be complex and confusing. To make it easier to understand, debug, and optimize TensorFlow programs, we've included a suite of visualization tools called TensorBoard. You can use TensorBoard to visualize your TensorFlow graph, plot quantitative metrics about the execution of your graph, and show additional data like images that pass through it. \n",
        "\n",
        "TensorBoard is a useful tool for visualizing and debugging training of a Nerual Network. It is used to *babysitting* the learning process, display useful information like the graph of the model and to manage experiments. \n",
        "\n",
        "We need to tell TensorFlow to save the graph of the model in order to visualize it. "
      ]
    },
    {
      "cell_type": "code",
      "metadata": {
        "id": "isMjhY8soHnu",
        "colab_type": "code",
        "colab": {}
      },
      "source": [
        "writer = tf.summary.FileWriter('temp/graphs', tf.get_default_graph())\n",
        "writer.close()"
      ],
      "execution_count": 0,
      "outputs": []
    },
    {
      "cell_type": "markdown",
      "metadata": {
        "id": "TWUSikCFoHnw",
        "colab_type": "text"
      },
      "source": [
        "Then in the current directory (remember to activate your environment) type:\n",
        "\n",
        "`tensorboard --logdir=temp/graphs`\n",
        "\n",
        "A common source of error is to add operations at run time, to the graph. While it is perfectly normal in any computer language, it is a problem in TensorFlow. Let's look at it with TensorBoard"
      ]
    },
    {
      "cell_type": "code",
      "metadata": {
        "id": "vqQDq-OLoHnw",
        "colab_type": "code",
        "colab": {}
      },
      "source": [
        "x = tf.Variable(10, name='x')\n",
        "y = tf.Variable(20, name='y')\n",
        "\n",
        "with tf.Session() as sess:\n",
        "    sess.run(tf.global_variables_initializer())\n",
        "    for _ in range(10):\n",
        "        sess.run(tf.add(x, y)) \n",
        "    writer = tf.summary.FileWriter('temp/graphs', sess.graph)\n",
        "writer.close()"
      ],
      "execution_count": 0,
      "outputs": []
    },
    {
      "cell_type": "markdown",
      "metadata": {
        "id": "jxLcUXi3oHny",
        "colab_type": "text"
      },
      "source": [
        "Sometimes this is called **lazy loading**. As can be seen we need to defer the creation and initialization of an object until it is needed."
      ]
    },
    {
      "cell_type": "markdown",
      "metadata": {
        "id": "OeHeaWWToHny",
        "colab_type": "text"
      },
      "source": [
        "## 3 Building Models"
      ]
    },
    {
      "cell_type": "markdown",
      "metadata": {
        "id": "4w29NwRzoHny",
        "colab_type": "text"
      },
      "source": [
        "Now tensorflow is especially useful to train Machine Learning models. We will briefly sketch the workflow of building simple models. We will switch to more complex models (Neural Networks) in following notebooks."
      ]
    },
    {
      "cell_type": "markdown",
      "metadata": {
        "id": "9QnwS5SEoHn0",
        "colab_type": "text"
      },
      "source": [
        "### 3.1 Linear Regression example"
      ]
    },
    {
      "cell_type": "markdown",
      "metadata": {
        "id": "HO1sYbHPoHn0",
        "colab_type": "text"
      },
      "source": [
        "The most simple model to build is based on a target variable $y$ that we are trying to predict given input data $x$. We have a set of $x$ and $y$ values that we use to train the model. Suppose that $y$ is a vector with continuous values, we have a regression model that can be described with a simple equation: $f(x) = w^Tx + b$ and $y = f(x) + \\epsilon$, where \n",
        "$f(x)$ is a linear combination of our training data $x$, with a set of weights $w$ and an intercept $b$. The target $y$ is equal to $f(x)$ with added gaussian noise. \n",
        "\n",
        "We implement this simple regression with tensorflow. First we need to create some input data, then we will create the computational graph, we'll train the model and look at the results.\n",
        "\n",
        "Now we define a set of points to used for training and as target."
      ]
    },
    {
      "cell_type": "code",
      "metadata": {
        "id": "xEuZxanloHn0",
        "colab_type": "code",
        "colab": {}
      },
      "source": [
        "data = np.random.randn(2000, 3)\n",
        "w_real = [0.3, 0.5, 0.1]\n",
        "b_real = -0.2\n",
        "\n",
        "noise = np.random.randn(2000) * 0.1\n",
        "y_real = np.matmul(w_real, data.T) + b_real\n",
        "target = y_real + noise"
      ],
      "execution_count": 0,
      "outputs": []
    },
    {
      "cell_type": "markdown",
      "metadata": {
        "id": "jMXbdwoZoHn2",
        "colab_type": "text"
      },
      "source": [
        "**Phase 1:** assemble the graph.\n",
        "\n",
        "*Step 1:* create placeholders for input and target"
      ]
    },
    {
      "cell_type": "code",
      "metadata": {
        "id": "vD-zsYAYoHn2",
        "colab_type": "code",
        "colab": {}
      },
      "source": [
        "X = tf.placeholder(tf.float32, shape=[None, 3])\n",
        "y = tf.placeholder(tf.float32, shape=None)"
      ],
      "execution_count": 0,
      "outputs": []
    },
    {
      "cell_type": "markdown",
      "metadata": {
        "id": "VfML7G-zoHn4",
        "colab_type": "text"
      },
      "source": [
        "*Step 2:* create variables for weights and bias"
      ]
    },
    {
      "cell_type": "code",
      "metadata": {
        "id": "eB5WcJ4PoHn5",
        "colab_type": "code",
        "colab": {}
      },
      "source": [
        "init_val = tf.random_normal((1, 3), 0, 1)\n",
        "W = tf.get_variable(name='weights', dtype=tf.float32, initializer=init_val)\n",
        "b = tf.get_variable(name='bias', dtype=tf.float32, initializer=0.0)"
      ],
      "execution_count": 0,
      "outputs": []
    },
    {
      "cell_type": "markdown",
      "metadata": {
        "id": "kNJ41HJpoHn7",
        "colab_type": "text"
      },
      "source": [
        "*Step 3:* define the model"
      ]
    },
    {
      "cell_type": "code",
      "metadata": {
        "id": "SY0jbb38oHn8",
        "colab_type": "code",
        "colab": {}
      },
      "source": [
        "linear_model = tf.matmul(W, X, transpose_b=True) + b"
      ],
      "execution_count": 0,
      "outputs": []
    },
    {
      "cell_type": "markdown",
      "metadata": {
        "id": "_XVD3y97oHn-",
        "colab_type": "text"
      },
      "source": [
        "**NOTE:** How to train such a linear model? There is however a simple closed formula to solve a linear regression model, but we will define a loss function and an optimization operation, that will be inserted into the graph (it will be helpful later on when we will see Neural Networks). **The loss function defines a method to evaluate model performance**. The loss function defines a distance between the predicted values and the target values, and it is used as input to the optimization procedure that finds a set of parameters that minimize the loss function. The most common loss function is the Mean Squared Error (MSE), that finds the squared distance between a set of points and then averages the results over all points. The optimization operation is **gradient descent that iteratively updates the weights in a way that decreases loss over time**. The update rule is **based on the gradient of the loss function**. If the loss is a multivariate function of the weights $F(\\hat w)$, then in the neighborhood of some point $\\hat w_0$, the *steepest* direction of decrease of $F(\\hat w)$ is obtained by moving from $\\hat w_0$ in the direction of the negative gradient of $F$ at $\\hat w_0$. We will give more hints on the gradient descent algorithm and its variants when we will use it with Neural Networks.\n",
        "\n",
        "*Step 4:* define the loss function"
      ]
    },
    {
      "cell_type": "code",
      "metadata": {
        "id": "nRTw5OcsoHn-",
        "colab_type": "code",
        "colab": {}
      },
      "source": [
        "loss = tf.reduce_mean(tf.square(linear_model - y)) "
      ],
      "execution_count": 0,
      "outputs": []
    },
    {
      "cell_type": "markdown",
      "metadata": {
        "id": "BeqtEvHjoHoA",
        "colab_type": "text"
      },
      "source": [
        "*Step 5:* define the optimizer and the training operation"
      ]
    },
    {
      "cell_type": "code",
      "metadata": {
        "id": "ytbu5mBvoHoB",
        "colab_type": "code",
        "colab": {}
      },
      "source": [
        "optimizer = tf.train.GradientDescentOptimizer(0.5)\n",
        "train = optimizer.minimize(loss)"
      ],
      "execution_count": 0,
      "outputs": []
    },
    {
      "cell_type": "markdown",
      "metadata": {
        "id": "5NH05ma3oHoC",
        "colab_type": "text"
      },
      "source": [
        "**Phase 2:** train the model\n",
        "\n",
        "*Step 1: define an init operation"
      ]
    },
    {
      "cell_type": "code",
      "metadata": {
        "id": "bm7arDiJoHoD",
        "colab_type": "code",
        "colab": {}
      },
      "source": [
        "init = tf.global_variables_initializer()"
      ],
      "execution_count": 0,
      "outputs": []
    },
    {
      "cell_type": "markdown",
      "metadata": {
        "id": "1vNWks7IoHoE",
        "colab_type": "text"
      },
      "source": [
        "*Step 2*: run the optimizer with training data"
      ]
    },
    {
      "cell_type": "code",
      "metadata": {
        "id": "4iKbn-tGoHoE",
        "colab_type": "code",
        "outputId": "6c3dc618-c9a8-4b4e-f010-e08d2c64c6b1",
        "colab": {}
      },
      "source": [
        "NUM_STEPS = 10\n",
        "with tf.Session() as sess:\n",
        "    sess.run(init)\n",
        "    tmp_ = sess.run([W, b])\n",
        "    print(0, tmp_[0], tmp_[1])\n",
        "    for step in range(NUM_STEPS):\n",
        "        sess.run(train, {X: data, y: target})\n",
        "        if ((step+1) % 5 == 0):\n",
        "            tmp_ = sess.run([W, b])\n",
        "            print(step+1, tmp_[0], tmp_[1])"
      ],
      "execution_count": 0,
      "outputs": [
        {
          "output_type": "stream",
          "text": [
            "0 [[ 0.59365594 -0.5348281   0.6166631 ]] 0.0\n",
            "5 [[0.29778492 0.49913204 0.10142566]] -0.19492406\n",
            "10 [[0.29778528 0.49913168 0.10142588]] -0.1949241\n"
          ],
          "name": "stdout"
        }
      ]
    },
    {
      "cell_type": "markdown",
      "metadata": {
        "id": "Q2CycjRgoHoJ",
        "colab_type": "text"
      },
      "source": [
        "### 3.2 Classify Digits with Logistic Regression"
      ]
    },
    {
      "cell_type": "markdown",
      "metadata": {
        "id": "fkPcHjqzoHoL",
        "colab_type": "text"
      },
      "source": [
        "#### 3.2.1 The Dataset"
      ]
    },
    {
      "cell_type": "markdown",
      "metadata": {
        "id": "xBsUhRkToHoO",
        "colab_type": "text"
      },
      "source": [
        "We will learn to classify MNIST handwritten digit images into their correct label (0-9). MNIST is a standard dataset hosted on [Yann LeCun's website](http://yann.lecun.com/exdb/mnist/). The digits have been size-normalized and centered in a fixed-size image.\n",
        "\n",
        "The importance of classical datasets is twofold. First they are good for people who want to try machine learning techniques while spending minimal efforts on preprocessing and formatting data. Second they are useful for comparing machine learning algorithms, since we know well how they work on these datasets.\n",
        "\n",
        "Each image is 28 pixels by 28 pixels, representing an handwritten number between 0 to 9."
      ]
    },
    {
      "cell_type": "markdown",
      "metadata": {
        "id": "iuD8O5c3oHoR",
        "colab_type": "text"
      },
      "source": [
        "We can interpret this as a big array of numbers:"
      ]
    },
    {
      "cell_type": "markdown",
      "metadata": {
        "id": "0WUkh9JPx_Il",
        "colab_type": "text"
      },
      "source": [
        "<center>  <img src=https://drive.google.com/uc?id=1JJ0PgAwFNjlgAr3ROy8lgilHQW-iTXST \" width=\"800\">  </center> "
      ]
    },
    {
      "cell_type": "markdown",
      "metadata": {
        "id": "IhVq7L6RoHoU",
        "colab_type": "text"
      },
      "source": [
        "Since each image has 28 by 28 pixels, we get a 28x28 array. We can flatten each array into a 28∗28=784 dimensional vector. Each component of the vector is a value between zero and one describing the intensity of the pixel. Thus, we generally think of MNIST as being a collection of 784-dimensional vectors. Flattening the image may throw away information about the structure and it surely does. There are methods that look directly at the 2D image but will be covered in later tutorials.\n",
        "\n",
        "Now, we load the data and we see how it is organized."
      ]
    },
    {
      "cell_type": "code",
      "metadata": {
        "id": "6oZ11zREoHoU",
        "colab_type": "code",
        "outputId": "2d3153b1-264a-42c2-e944-8ccce6a6cea6",
        "colab": {}
      },
      "source": [
        "from tensorflow.examples.tutorials.mnist import input_data\n",
        "\n",
        "mnist = input_data.read_data_sets('./MNIST', one_hot=True)"
      ],
      "execution_count": 0,
      "outputs": [
        {
          "output_type": "stream",
          "text": [
            "Extracting ./MNIST/train-images-idx3-ubyte.gz\n",
            "Extracting ./MNIST/train-labels-idx1-ubyte.gz\n",
            "Extracting ./MNIST/t10k-images-idx3-ubyte.gz\n",
            "Extracting ./MNIST/t10k-labels-idx1-ubyte.gz\n"
          ],
          "name": "stdout"
        }
      ]
    },
    {
      "cell_type": "markdown",
      "metadata": {
        "id": "sKb48XRUoHoX",
        "colab_type": "text"
      },
      "source": [
        "The dataset is split into three parts, one for training, one for testingand one for validation. Each dataset is an n-dimensional array with shape [number of examples, 784]. Each example is an image with associated a corresponding label, a number between 0 - 9 that represents the digit depicted in the image."
      ]
    },
    {
      "cell_type": "code",
      "metadata": {
        "id": "0drDscz1oHoX",
        "colab_type": "code",
        "colab": {}
      },
      "source": [
        "# The MNIST dataset has 10 classes, representing the digits 0 through 9.\n",
        "NUM_CLASSES = 10\n",
        "\n",
        "# The MNIST images are always 28x28 pixels.\n",
        "IMAGE_SIZE = 28\n",
        "IMAGE_PIXELS = IMAGE_SIZE * IMAGE_SIZE"
      ],
      "execution_count": 0,
      "outputs": []
    },
    {
      "cell_type": "code",
      "metadata": {
        "id": "796SciBLoHoa",
        "colab_type": "code",
        "outputId": "b7f9e68e-6bfd-4f6f-8190-e96f32cb2838",
        "colab": {}
      },
      "source": [
        "print('train examples: ', mnist.train.num_examples)\n",
        "print('test examples: ', mnist.test.num_examples)\n",
        "print('validation examples: ', mnist.validation.num_examples)"
      ],
      "execution_count": 0,
      "outputs": [
        {
          "output_type": "stream",
          "text": [
            "train examples:  55000\n",
            "test examples:  10000\n",
            "validation examples:  5000\n"
          ],
          "name": "stdout"
        }
      ]
    },
    {
      "cell_type": "markdown",
      "metadata": {
        "id": "pRZbkBR4oHoc",
        "colab_type": "text"
      },
      "source": [
        "In order to classify the digits we will use an output layer with 10 units, one for each digits. For this reason our labels are encoded as \"one-hot vectors\". A one-hot vector is a vector which is 0 in most dimensions, and 1 in a single dimension. In this case the\n",
        "n-th digit will be represented as a vector which is 1 in the n-th dimension. For example, 3 would be [0, 0, 0, 1, 0, 0, 0, 0, 0, 0]. Consequently, mnist.train.labels is a [55000, 10] array of floats."
      ]
    },
    {
      "cell_type": "code",
      "metadata": {
        "id": "T2Oi5hOIoHod",
        "colab_type": "code",
        "outputId": "7fdb3021-5ab5-442a-b196-3af6cecd7802",
        "colab": {}
      },
      "source": [
        "print(mnist.train.labels[0])"
      ],
      "execution_count": 0,
      "outputs": [
        {
          "output_type": "stream",
          "text": [
            "[0. 0. 0. 0. 0. 0. 0. 1. 0. 0.]\n"
          ],
          "name": "stdout"
        }
      ]
    },
    {
      "cell_type": "markdown",
      "metadata": {
        "id": "tPvDuJGPoHoe",
        "colab_type": "text"
      },
      "source": [
        "#### 3.2.2 The Model"
      ]
    },
    {
      "cell_type": "markdown",
      "metadata": {
        "id": "ScYI-dHSoHof",
        "colab_type": "text"
      },
      "source": [
        "We will use a simple linear model for classification, the logistic regression; logistic regression outputs a probability for each class. In particular we will use a softmax classification for the case of multiple classes."
      ]
    },
    {
      "cell_type": "code",
      "metadata": {
        "id": "Y6Ge_ZTcoHof",
        "colab_type": "code",
        "outputId": "ba77f95b-20eb-4dcc-ecd4-105737a01bd3",
        "colab": {}
      },
      "source": [
        "Image('images/logistic_function.png', height=\"500\", width=\"500\")"
      ],
      "execution_count": 0,
      "outputs": [
        {
          "output_type": "execute_result",
          "data": {
            "image/png": "[encoded data removed]",
            "text/plain": [
              "<IPython.core.display.Image object>"
            ]
          },
          "metadata": {
            "tags": [],
            "image/png": {
              "height": "500",
              "width": "500"
            }
          },
          "execution_count": 9
        }
      ]
    },
    {
      "cell_type": "markdown",
      "metadata": {
        "id": "rXaVO6EMoHog",
        "colab_type": "text"
      },
      "source": [
        "$$\\sigma(z) = \\frac{1}{1+e^{-z}} $$\n",
        "\n",
        "Where the $z$ in previous function has the value of $W^Tx+b$ and the output $c$ of this function is the probability of being in that class that is $P(Y=c \\mid X=x)$, given $x$ parametrized by $W$ and $b$.\n",
        "\n",
        "**Phase 1:**: build the graph.\n",
        "\n",
        "*Step 1:* define two placeholder variables, one for the input $x$ the other for the (true) output $y$."
      ]
    },
    {
      "cell_type": "code",
      "metadata": {
        "id": "ndl9mRO4oHoh",
        "colab_type": "code",
        "colab": {}
      },
      "source": [
        "x = tf.placeholder(tf.float32, shape=[None, IMAGE_PIXELS])\n",
        "y = tf.placeholder(tf.int32, shape=[None, NUM_CLASSES])"
      ],
      "execution_count": 0,
      "outputs": []
    },
    {
      "cell_type": "markdown",
      "metadata": {
        "id": "WI_kl5XYoHoi",
        "colab_type": "text"
      },
      "source": [
        "*Step 2:* weights and biases\n",
        "\n",
        "The first variable that must be optimized is called `weights` and is defined here as a TensorFlow variable that must be initialized with zeros and whose shape is `[IMAGE_PIXELS, NUM_CLASSES]`, so it is a 2-dimensional tensor (or matrix) with `IMAGE_PIXELS` rows and `NUM_CLASSES` columns.\n",
        "\n",
        "The second variable that must be optimized is called `biases` and is defined as a 1-dimensional tensor (or vector) of length `NUM_CLASSES`."
      ]
    },
    {
      "cell_type": "code",
      "metadata": {
        "id": "6wPEybNzoHoi",
        "colab_type": "code",
        "colab": {}
      },
      "source": [
        "weights = tf.Variable(tf.zeros([IMAGE_PIXELS, NUM_CLASSES]))\n",
        "biases = tf.Variable(tf.zeros([NUM_CLASSES]))"
      ],
      "execution_count": 0,
      "outputs": []
    },
    {
      "cell_type": "markdown",
      "metadata": {
        "id": "RhhRvkpioHoj",
        "colab_type": "text"
      },
      "source": [
        "*Step 3: * build the model\n",
        "\n",
        "This simple mathematical model multiplies the images in the placeholder variable `x` with the `weights` and then adds the `biases`.\n",
        "\n",
        "The result is a matrix of shape `[num_images, NUM_CLASSES]` because `x` has shape `[num_images, IMAGE_PIXELS]` and `weights` has shape `[IMAGE_PIXELS, NUM_CLASSES]`, so the multiplication of those two matrices is a matrix with shape `[num_images, NUM_CLASSES]` and then the `biases` vector is added to each row of that matrix."
      ]
    },
    {
      "cell_type": "code",
      "metadata": {
        "id": "Oo8HyQYLoHoj",
        "colab_type": "code",
        "colab": {}
      },
      "source": [
        "logits = tf.matmul(x, weights) + biases"
      ],
      "execution_count": 0,
      "outputs": []
    },
    {
      "cell_type": "markdown",
      "metadata": {
        "id": "CwRsI3iDoHol",
        "colab_type": "text"
      },
      "source": [
        "Now `logits` is a matrix with `num_images` rows and `num_classes` columns, where **the element of the $i$'th row and $j$'th column is an estimate of how likely the $i$'th input image is to be of the $j$'th class.**\n",
        "\n",
        "However, these estimates are a bit rough and difficult to interpret because the numbers may be very small or large, so we want to normalize them so that each row of the `logits` matrix sums to one, and each element is limited between zero and one. This is calculated using the so-called softmax function and the result is stored in `y_pred`."
      ]
    },
    {
      "cell_type": "code",
      "metadata": {
        "id": "PxAY5k_5oHol",
        "colab_type": "code",
        "colab": {}
      },
      "source": [
        "y_pred = tf.nn.softmax(logits)"
      ],
      "execution_count": 0,
      "outputs": []
    },
    {
      "cell_type": "markdown",
      "metadata": {
        "id": "XfY_bk1voHon",
        "colab_type": "text"
      },
      "source": [
        "The predicted class can be calculated from the `y_pred` matrix by taking the index of the largest element in each row."
      ]
    },
    {
      "cell_type": "code",
      "metadata": {
        "id": "bWS5ef_XoHon",
        "colab_type": "code",
        "colab": {}
      },
      "source": [
        "y_pred_cls = tf.argmax(y_pred, axis=1)"
      ],
      "execution_count": 0,
      "outputs": []
    },
    {
      "cell_type": "markdown",
      "metadata": {
        "id": "n2NI2VtMoHoo",
        "colab_type": "text"
      },
      "source": [
        "*Step 3:* define loss function\n",
        "\n",
        "To make the model better at classifying the input images, we must somehow change the variables for `weights` and `biases`. To do this we first need to know how well the model currently performs by comparing the predicted output of the model `y_pred` to the desired output `y`.\n",
        "\n",
        "The softmax is a generalization of the logistic function, it is used to calculate the probability associated to each class and it is usefull in multiclass classification problems. A softmax regression has two steps: first we add up the evidence of our input being in certain classes, and then we convert that evidence into probabilities. Here a class is one of the 10 possibile digits. \n",
        "\n",
        "Next we define the cost function, cross entropy in this case. **Cross-entropy gives us a way to express how different two probability distributions are. The more different the distributions p and q are, the more the cross-entropy of p with respect to q will be bigger than the entropy of p**. Similarly, the more different p is from q, the more the cross-entropy of q with respect to p will be bigger than the entropy of q. If the distributions are the same, this difference will be zero. As the difference grows, it will get bigger.\n",
        "\n",
        "The goal of optimization is therefore to minimize the cross-entropy so it gets as close to zero as possible by changing the `weights` and `biases` of the model.\n",
        "\n",
        "TensorFlow has a built-in function for calculating the cross-entropy. Note that it uses the values of the `logits` because it also calculates the softmax internally."
      ]
    },
    {
      "cell_type": "code",
      "metadata": {
        "id": "-whvA7SAoHoo",
        "colab_type": "code",
        "colab": {}
      },
      "source": [
        "cross_entropy = tf.nn.softmax_cross_entropy_with_logits_v2(logits=logits,\n",
        "                                                           labels=y)"
      ],
      "execution_count": 0,
      "outputs": []
    },
    {
      "cell_type": "markdown",
      "metadata": {
        "id": "h-jiVDGxoHoq",
        "colab_type": "text"
      },
      "source": [
        "We have now calculated the cross-entropy for each of the image classifications so we have a measure of how well the model performs on each image individually. But in order to use the cross-entropy to guide the optimization of the model's variables we need a single scalar value, so we simply take the average of the cross-entropy for all the image classifications."
      ]
    },
    {
      "cell_type": "code",
      "metadata": {
        "id": "-PX4TN1soHoq",
        "colab_type": "code",
        "colab": {}
      },
      "source": [
        "cost = tf.reduce_mean(cross_entropy)"
      ],
      "execution_count": 0,
      "outputs": []
    },
    {
      "cell_type": "markdown",
      "metadata": {
        "id": "V1NsYQMxoHor",
        "colab_type": "text"
      },
      "source": [
        "*Step 4:* \n",
        "\n",
        "Now that we have a cost measure that must be minimized, we can then create an optimizer. In this case it is the basic form of Gradient Descent where the learning rate is set at $0.5$."
      ]
    },
    {
      "cell_type": "code",
      "metadata": {
        "id": "goxmyiKRoHor",
        "colab_type": "code",
        "colab": {}
      },
      "source": [
        "optimizer = tf.train.GradientDescentOptimizer(learning_rate=0.5).minimize(cost)"
      ],
      "execution_count": 0,
      "outputs": []
    },
    {
      "cell_type": "markdown",
      "metadata": {
        "id": "um7l9EWnoHot",
        "colab_type": "text"
      },
      "source": [
        "We need a few more performance measures to display the progress to the user.\n",
        "\n",
        "This is a vector of booleans whether the predicted class equals the true class of each image. \n",
        "\n",
        "This calculates the classification accuracy by first type-casting the vector of booleans to floats, so that False becomes 0 and True becomes 1, and then calculating the average of these numbers."
      ]
    },
    {
      "cell_type": "code",
      "metadata": {
        "id": "nFuf0TMSoHot",
        "colab_type": "code",
        "colab": {}
      },
      "source": [
        "correct_prediction = tf.equal(tf.argmax(tf.nn.softmax(logits), 1), \n",
        "                              tf.argmax(y, 1))\n",
        "accuracy = tf.reduce_mean(tf.cast(correct_prediction, tf.float32))"
      ],
      "execution_count": 0,
      "outputs": []
    },
    {
      "cell_type": "markdown",
      "metadata": {
        "id": "4GYkP7vWoHou",
        "colab_type": "text"
      },
      "source": [
        "**Phase 2:** train the model\n",
        "\n",
        "*Step 1:* initialize variables\n",
        "\n",
        "There are 50.000 images in the training-set. It takes a long time to calculate the gradient of the model using all these images. We therefore use Stochastic Gradient Descent which only uses a small batch of images in each iteration of the optimizer."
      ]
    },
    {
      "cell_type": "code",
      "metadata": {
        "id": "q43eLLUJoHov",
        "colab_type": "code",
        "colab": {}
      },
      "source": [
        "NUM_ITERATIONS = 1000\n",
        "BATCH_SIZE = 100\n",
        "\n",
        "session = tf.Session()\n",
        "session.run(tf.global_variables_initializer())"
      ],
      "execution_count": 0,
      "outputs": []
    },
    {
      "cell_type": "markdown",
      "metadata": {
        "id": "u6zRqmZioHow",
        "colab_type": "text"
      },
      "source": [
        "*Step 2:* run optimizer\n",
        "\n",
        "Function for performing a number of optimization iterations so as to gradually improve the `weights` and `biases` of the model. In each iteration, a new batch of data is selected from the training-set and then TensorFlow executes the optimizer using those training samples."
      ]
    },
    {
      "cell_type": "code",
      "metadata": {
        "id": "bGMMfpKYoHox",
        "colab_type": "code",
        "colab": {}
      },
      "source": [
        "for i in range(NUM_ITERATIONS):\n",
        "    x_batch, y_batch = mnist.train.next_batch(BATCH_SIZE)\n",
        "\n",
        "    feed_dict_train = {x: x_batch,\n",
        "                       y: y_batch}\n",
        "\n",
        "    session.run(optimizer, feed_dict=feed_dict_train)"
      ],
      "execution_count": 0,
      "outputs": []
    },
    {
      "cell_type": "markdown",
      "metadata": {
        "id": "mKCbUe74oHoy",
        "colab_type": "text"
      },
      "source": [
        "*Step 3:* verify model accuracy\n",
        "\n",
        "Dict test contains test data that the model has not seen during the training"
      ]
    },
    {
      "cell_type": "code",
      "metadata": {
        "id": "b__sddXKoHoz",
        "colab_type": "code",
        "colab": {}
      },
      "source": [
        "feed_dict_test = {x: mnist.test.images,\n",
        "                  y: mnist.test.labels}"
      ],
      "execution_count": 0,
      "outputs": []
    },
    {
      "cell_type": "code",
      "metadata": {
        "id": "shbOlxiRoHoz",
        "colab_type": "code",
        "outputId": "2aa75099-fd08-461f-e094-2d40240ba768",
        "colab": {}
      },
      "source": [
        "acc = session.run(accuracy, feed_dict=feed_dict_test)\n",
        "    \n",
        "print(\"Accuracy on test set: {0:.1%}\".format(acc))"
      ],
      "execution_count": 0,
      "outputs": [
        {
          "output_type": "stream",
          "text": [
            "Accuracy on test set: 91.9%\n"
          ],
          "name": "stdout"
        }
      ]
    },
    {
      "cell_type": "code",
      "metadata": {
        "id": "GQHbY1PnoHo1",
        "colab_type": "code",
        "outputId": "bb8d0e2b-7be9-442f-b43f-b3716266d6a7",
        "colab": {}
      },
      "source": [
        "cls_true = np.argmax(mnist.test.labels, axis=1)\n",
        "\n",
        "cls_pred = session.run(y_pred_cls, feed_dict=feed_dict_test)\n",
        "\n",
        "cm = confusion_matrix(y_true=cls_true,\n",
        "                      y_pred=cls_pred)\n",
        "\n",
        "print(cm)"
      ],
      "execution_count": 0,
      "outputs": [
        {
          "output_type": "stream",
          "text": [
            "[[ 956    0    2    2    0    3   12    3    2    0]\n",
            " [   0 1112    2    2    0    1    4    2   12    0]\n",
            " [   5    9  910   14   13    3   14   14   41    9]\n",
            " [   3    1   20  921    0   19    4   13   17   12]\n",
            " [   1    2    4    1  921    0   11    2    6   34]\n",
            " [   9    4    3   52   12  745   21    8   29    9]\n",
            " [   8    3    5    1   12    6  917    2    4    0]\n",
            " [   2    9   18    9    6    0    0  948    2   34]\n",
            " [   5   10    6   25    9   29   11   14  856    9]\n",
            " [   9    6    2   10   39    5    0   29   10  899]]\n"
          ],
          "name": "stdout"
        }
      ]
    },
    {
      "cell_type": "markdown",
      "metadata": {
        "id": "zbWdWYhgoHo2",
        "colab_type": "text"
      },
      "source": [
        "The value at cell $(i, j)$ means the fraction of data points from class $i$ whose classification result is $j$. Ideally, the confusion matrix will be identity matrix (Diagonal cells are $1$ and remaining cells are $0$)."
      ]
    }
  ]
}